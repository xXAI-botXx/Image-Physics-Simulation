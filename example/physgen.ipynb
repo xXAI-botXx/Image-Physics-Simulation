{
 "cells": [
  {
   "cell_type": "markdown",
   "id": "91c135b9",
   "metadata": {},
   "source": [
    "# Ray Tracing with Physgen Dataset\n",
    "\n",
    "An example of using the ips framework (img_phy_sim).\n",
    "\n",
    "The `ips.ray_tracing` part contains all useful functions to trace rays on 2D images.<br>\n",
    "The `ips.img` provides very useful functions to work with images. Most of it are for showing images.\n",
    "\n",
    "Contents:\n",
    "- [Imports](#imports)\n",
    "- [Data Loading](#data-loading)\n",
    "- [Showing the Image](#showing-the-image)\n",
    "- [Wall Maps](#wall-maps)\n",
    "- [Ray Tracing](#ray-tracing)\n",
    "- [Draw Rays](#draw-rays)\n",
    "- [Comparison with Physgen Reflections](#comparison-with-physgen-reflections)"
   ]
  },
  {
   "cell_type": "markdown",
   "id": "5d5d3e82",
   "metadata": {},
   "source": [
    "---\n",
    "### Imports"
   ]
  },
  {
   "cell_type": "code",
   "execution_count": null,
   "id": "0df9b6b2",
   "metadata": {},
   "outputs": [],
   "source": [
    "import sys\n",
    "sys.path += [\"..\"] # os.path.abspath(\"../img-phy-sim\")\n",
    "\n",
    "import img_phy_sim as ips\n",
    "from physgen_dataset import PhysGenDataset, get_image  # local module\n",
    "\n",
    "import os\n",
    "import random\n",
    "\n",
    "import numpy as np\n",
    "from torch.utils.data import DataLoader"
   ]
  },
  {
   "cell_type": "markdown",
   "id": "f1c581d8",
   "metadata": {},
   "source": [
    "---\n",
    "### Data Loading\n",
    "\n",
    "If already downloaded:"
   ]
  },
  {
   "cell_type": "code",
   "execution_count": null,
   "id": "c31dc323",
   "metadata": {},
   "outputs": [],
   "source": [
    "data_path = \"../datasets/physgen_train_raw/osm/\"\n",
    "\n",
    "img_src = data_path + random.sample(os.listdir(data_path), 1)[0]\n",
    "should_scale = True\n",
    "img_src"
   ]
  },
  {
   "cell_type": "markdown",
   "id": "905a8000",
   "metadata": {},
   "source": [
    "Or:"
   ]
  },
  {
   "cell_type": "code",
   "execution_count": null,
   "id": "4e8ffa6a",
   "metadata": {},
   "outputs": [],
   "source": [
    "# img_src = \"./cache_img.png\"\n",
    "# ips.img.save(\n",
    "#     get_image(mode='train', variation=\"sound_reflection\", input_type=\"osm\", output_type=\"complex_only\", \n",
    "#               shuffle=True, return_output=False, as_numpy_array=True), \n",
    "#     img_src, should_scale=False)\n",
    "# should_scale = False\n",
    "\n",
    "# img_src"
   ]
  },
  {
   "cell_type": "markdown",
   "id": "c13b6953",
   "metadata": {},
   "source": [
    "---\n",
    "### Showing the Image"
   ]
  },
  {
   "cell_type": "code",
   "execution_count": null,
   "id": "1d157fc2",
   "metadata": {},
   "outputs": [],
   "source": [
    "img = ips.img.open(src=img_src, should_scale=should_scale, should_print=True)\n",
    "ips.img.imshow(img, size=4, axis_off=False)"
   ]
  },
  {
   "cell_type": "code",
   "execution_count": null,
   "id": "2a0ee832",
   "metadata": {},
   "outputs": [],
   "source": [
    "ips.img.show_image_with_line_and_profile(imgs=[img], axis='row', index=None, titles=None, figsize=(10, 8));"
   ]
  },
  {
   "cell_type": "markdown",
   "id": "b4d604fd",
   "metadata": {},
   "source": [
    "---\n",
    "### Wall Map\n",
    "\n",
    "The Wall Map shows the angle of the walls everything else is infinite.\n",
    "\n",
    "This function will be automatically called from the `ips.ray_tracing.trace_beams` function. Therefore most of the time this function does not get called alone.\n",
    "\n",
    "It features:\n",
    "- `thickness`: custom thickness of the wall-map\n",
    "- `wall_values`: auto edge detection or edge detection by given pixel-values, so possible are these 3 methods: None or 240 or [1.0, 0.5, 0.4]"
   ]
  },
  {
   "cell_type": "code",
   "execution_count": null,
   "id": "bb900509",
   "metadata": {},
   "outputs": [],
   "source": [
    "wall_map = ips.ray_tracing.get_wall_map(img, wall_values=None, thickness=0)\n",
    "ips.img.imshow(wall_map, size=4, axis_off=False)"
   ]
  },
  {
   "cell_type": "code",
   "execution_count": null,
   "id": "fb9696f8",
   "metadata": {},
   "outputs": [],
   "source": [
    "ips.img.show_image_with_line_and_profile(imgs=[wall_map], axis='row', index=None, titles=None, figsize=(10, 8));"
   ]
  },
  {
   "cell_type": "code",
   "execution_count": null,
   "id": "7bc7add8",
   "metadata": {},
   "outputs": [],
   "source": [
    "ips.img.show_image_with_line_and_profile(imgs=[wall_map], axis='column', index=None, titles=None, figsize=(10, 8));"
   ]
  },
  {
   "cell_type": "code",
   "execution_count": null,
   "id": "3db46cbf",
   "metadata": {},
   "outputs": [],
   "source": [
    "ips.img.imshow(ips.ray_tracing.get_wall_map(img, wall_values=None, thickness=1), size=4, axis_off=False)"
   ]
  },
  {
   "cell_type": "code",
   "execution_count": null,
   "id": "9507c858",
   "metadata": {},
   "outputs": [],
   "source": [
    "ips.img.imshow(ips.ray_tracing.get_wall_map(img, wall_values=None, thickness=2), size=4, axis_off=False)"
   ]
  },
  {
   "cell_type": "code",
   "execution_count": null,
   "id": "2ff0e0b8",
   "metadata": {},
   "outputs": [],
   "source": [
    "ips.img.imshow(ips.ray_tracing.get_wall_map(img, wall_values=0.0, thickness=0), size=4, axis_off=False)"
   ]
  },
  {
   "cell_type": "code",
   "execution_count": null,
   "id": "c1364794",
   "metadata": {},
   "outputs": [],
   "source": [
    "ips.img.plot_image_with_values(wall_map, block_size=8, \n",
    "                               cmap='gray', title=None, \n",
    "                               font_size=10, save_to=None)"
   ]
  },
  {
   "cell_type": "markdown",
   "id": "ec1d668d",
   "metadata": {},
   "source": [
    "---\n",
    "### Ray Tracing\n",
    "\n",
    "The `ips.ray_tracing.trace_beams` is the function to use for simulating the 2D ray tracing on an image.\n",
    "\n",
    "Features are:\n",
    "- Setting custom startposition for raytracing\n",
    "- Adding custom beam shooting positions in degree (where 0° is the east/right of the image and 90° is south/bottom and so on)\n",
    "- Setting reflexion order (how maxium reflexions should be calculated)\n",
    "- Setting if the border of the image should be reflective or not\n",
    "- And setting if the input image should be scaled and if the rays itself should be scaled\n",
    "- You can also set the \"wall\" object values, which should get detected as objects with collision. If set to None, the programm will find all clear edges.\n",
    "\n",
    "> Notice that the \"wall\" values will changed if you scale the image\n",
    "\n",
    "Use the `ips.ray_tracing.print_rays_info` function to print informations about your rays."
   ]
  },
  {
   "cell_type": "code",
   "execution_count": null,
   "id": "1dc59c85",
   "metadata": {},
   "outputs": [],
   "source": [
    "rays = ips.ray_tracing.trace_beams(rel_position=[0.5, 0.5], \n",
    "                                   img_src=img_src, \n",
    "                                   directions_in_degree=[0, 45],\n",
    "                                   wall_values=None, \n",
    "                                   wall_thickness=1,\n",
    "                                   img_border_also_collide=False,\n",
    "                                   reflexion_order=0,\n",
    "                                   should_scale_rays=True,\n",
    "                                   should_scale_img=True)\n",
    "ips.ray_tracing.print_rays_info(rays)"
   ]
  },
  {
   "cell_type": "code",
   "execution_count": null,
   "id": "1f86bc06",
   "metadata": {},
   "outputs": [],
   "source": [
    "rays = ips.ray_tracing.trace_beams(rel_position=[0.5, 0.5], \n",
    "                                   img_src=img_src, \n",
    "                                   directions_in_degree=ips.ray_tracing.get_linear_degree_range(start=0, stop=360, step_size=10),\n",
    "                                   wall_values=None, \n",
    "                                   wall_thickness=1,\n",
    "                                   img_border_also_collide=False,\n",
    "                                   reflexion_order=1,\n",
    "                                   should_scale_rays=True,\n",
    "                                   should_scale_img=True)\n",
    "ips.ray_tracing.print_rays_info(rays)"
   ]
  },
  {
   "cell_type": "markdown",
   "id": "7f85c91d",
   "metadata": {},
   "source": [
    "Scaling (notice that both images are equal)"
   ]
  },
  {
   "cell_type": "code",
   "execution_count": null,
   "id": "fa815c70",
   "metadata": {},
   "outputs": [],
   "source": [
    "rays_ = ips.ray_tracing.trace_beams(rel_position=[0.5, 0.5], \n",
    "                                   img_src=img_src, \n",
    "                                   directions_in_degree=[22, 56, 90, 146, 234, 285, 320],\n",
    "                                   wall_values=0.0, \n",
    "                                   wall_thickness=0,\n",
    "                                   img_border_also_collide=False,\n",
    "                                   reflexion_order=2,\n",
    "                                   should_scale_rays=False,\n",
    "                                   should_scale_img=True)\n",
    "print(\"\\nNot Scaled Ray:\", rays_[0][0][:min(len(rays_[0][0])-1, 3)])\n",
    "\n",
    "ray_img_1 = ips.ray_tracing.draw_rays(rays_, detail_draw=False, \n",
    "                                    output_format=\"single_image\", \n",
    "                                    img_background=img, ray_value=2, ray_thickness=1, \n",
    "                                    img_shape=(256, 256), dtype=float, standard_value=0,\n",
    "                                    should_scale_rays_to_image=False, original_max_width=None, original_max_height=None)\n",
    "\n",
    "rays_ = ips.ray_tracing.trace_beams(rel_position=[0.5, 0.5], \n",
    "                                   img_src=img_src, \n",
    "                                   directions_in_degree=[22, 56, 90, 146, 234, 285, 320],\n",
    "                                   wall_values=0.0, \n",
    "                                   wall_thickness=0,\n",
    "                                   img_border_also_collide=False,\n",
    "                                   reflexion_order=2,\n",
    "                                   should_scale_rays=True,\n",
    "                                   should_scale_img=True)\n",
    "\n",
    "print(\"Scaled Ray:\", rays_[0][0][:min(len(rays_[0][0])-1, 3)])\n",
    "\n",
    "ray_img_2 = ips.ray_tracing.draw_rays(rays_, detail_draw=False, \n",
    "                                    output_format=\"single_image\", \n",
    "                                    img_background=img, ray_value=2, ray_thickness=1, \n",
    "                                    img_shape=(256, 256), dtype=float, standard_value=0,\n",
    "                                    should_scale_rays_to_image=True, original_max_width=None, original_max_height=None)\n",
    "ips.img.advanced_imshow([ray_img_1, ray_img_2], title=None, image_width=8, axis=False,\n",
    "                        color_space=\"gray\", cmap=None, cols=2, save_to=None,\n",
    "                        hspace=0.2, wspace=0.2,\n",
    "                        use_original_style=False, invert=False)"
   ]
  },
  {
   "cell_type": "markdown",
   "id": "e39085a2",
   "metadata": {},
   "source": [
    "Image Border Collision + Reflexion Order Showcase"
   ]
  },
  {
   "cell_type": "code",
   "execution_count": null,
   "id": "25f0f516",
   "metadata": {},
   "outputs": [],
   "source": [
    "rays_ = ips.ray_tracing.trace_beams(rel_position=[0.5, 0.5], \n",
    "                                   img_src=img_src, \n",
    "                                   directions_in_degree=[22, 56, 90, 146, 234, 285, 320],\n",
    "                                   wall_values=0.0, \n",
    "                                   wall_thickness=0,\n",
    "                                   img_border_also_collide=True,\n",
    "                                   reflexion_order=2,\n",
    "                                   should_scale_rays=False,\n",
    "                                   should_scale_img=True)\n",
    "\n",
    "ray_img = ips.ray_tracing.draw_rays(rays_, detail_draw=False, \n",
    "                                    output_format=\"single_image\", \n",
    "                                    img_background=img, ray_value=2, ray_thickness=1, \n",
    "                                    img_shape=(256, 256), dtype=float, standard_value=0,\n",
    "                                    should_scale_rays_to_image=False, original_max_width=None, original_max_height=None)\n",
    "ips.img.imshow(ray_img, size=4)"
   ]
  },
  {
   "cell_type": "code",
   "execution_count": null,
   "id": "612f5bcb",
   "metadata": {},
   "outputs": [],
   "source": [
    "rays_ = ips.ray_tracing.trace_beams(rel_position=[0.5, 0.5], \n",
    "                                   img_src=img_src, \n",
    "                                   directions_in_degree=[42],\n",
    "                                   wall_values=0.0, \n",
    "                                   wall_thickness=0,\n",
    "                                   img_border_also_collide=True,\n",
    "                                   reflexion_order=20,\n",
    "                                   should_scale_rays=False,\n",
    "                                   should_scale_img=True)\n",
    "\n",
    "ray_img = ips.ray_tracing.draw_rays(rays_, detail_draw=False, \n",
    "                                    output_format=\"single_image\", \n",
    "                                    img_background=img, ray_value=2, ray_thickness=1, \n",
    "                                    img_shape=(256, 256), dtype=float, standard_value=0,\n",
    "                                    should_scale_rays_to_image=False, original_max_width=None, original_max_height=None)\n",
    "ips.img.imshow(ray_img, size=4)"
   ]
  },
  {
   "cell_type": "markdown",
   "id": "f411b8af",
   "metadata": {},
   "source": [
    "Change position"
   ]
  },
  {
   "cell_type": "code",
   "execution_count": null,
   "id": "e1777e24",
   "metadata": {},
   "outputs": [],
   "source": [
    "rays_ = ips.ray_tracing.trace_beams(rel_position=[0.9, 0.9], \n",
    "                                   img_src=img_src, \n",
    "                                   directions_in_degree=ips.ray_tracing.get_linear_degree_range(start=0, stop=360, step_size=10),\n",
    "                                   wall_values=0.0, \n",
    "                                   wall_thickness=0,\n",
    "                                   img_border_also_collide=False,\n",
    "                                   reflexion_order=3,\n",
    "                                   should_scale_rays=True,\n",
    "                                   should_scale_img=True)\n",
    "\n",
    "ray_img = ips.ray_tracing.draw_rays(rays_, detail_draw=False, \n",
    "                                    output_format=\"single_image\", \n",
    "                                    img_background=img, ray_value=2, ray_thickness=1, \n",
    "                                    img_shape=(256, 256), dtype=float, standard_value=0,\n",
    "                                    should_scale_rays_to_image=True, original_max_width=None, original_max_height=None)\n",
    "ips.img.imshow(ray_img, size=4)"
   ]
  },
  {
   "cell_type": "markdown",
   "id": "5de40ea4",
   "metadata": {},
   "source": [
    "Loading and Saving"
   ]
  },
  {
   "cell_type": "code",
   "execution_count": null,
   "id": "53cd0e37",
   "metadata": {},
   "outputs": [],
   "source": [
    "rays_saved = ips.ray_tracing.trace_beams(rel_position=[0.5, 0.5], \n",
    "                                        img_src=img_src, \n",
    "                                        directions_in_degree=ips.ray_tracing.get_linear_degree_range(start=0, stop=360, step_size=10),\n",
    "                                        wall_values=None, \n",
    "                                        wall_thickness=1,\n",
    "                                        img_border_also_collide=False,\n",
    "                                        reflexion_order=1,\n",
    "                                        should_scale_rays=True,\n",
    "                                        should_scale_img=True)\n",
    "ips.ray_tracing.print_rays_info(rays_saved)\n",
    "ips.ray_tracing.save(path=\"./my_awesome_rays.txt\", rays=rays_saved)\n",
    "\n",
    "rays_loaded = ips.ray_tracing.open(path=\"./my_awesome_rays.txt\")\n",
    "\n",
    "print(f\"\\n{rays_saved == rays_loaded=}\\n\")\n",
    "ips.ray_tracing.print_rays_info(rays_loaded)"
   ]
  },
  {
   "cell_type": "markdown",
   "id": "9f370e43",
   "metadata": {},
   "source": [
    "Merging rays"
   ]
  },
  {
   "cell_type": "code",
   "execution_count": null,
   "id": "a69b989d",
   "metadata": {},
   "outputs": [],
   "source": [
    "rays_1 = ips.ray_tracing.trace_beams(rel_position=[0.5, 0.5], \n",
    "                                   img_src=img_src, \n",
    "                                   directions_in_degree=ips.ray_tracing.get_linear_degree_range(start=0, stop=360, step_size=60),\n",
    "                                   wall_values=None, \n",
    "                                   wall_thickness=1,\n",
    "                                   img_border_also_collide=False,\n",
    "                                   reflexion_order=1,\n",
    "                                   should_scale_rays=True,\n",
    "                                   should_scale_img=True)\n",
    "ips.ray_tracing.print_rays_info(rays_1)\n",
    "\n",
    "rays_2 = ips.ray_tracing.trace_beams(rel_position=[0.5, 0.5], \n",
    "                                   img_src=img_src, \n",
    "                                   directions_in_degree=ips.ray_tracing.get_linear_degree_range(start=0, stop=360, step_size=90, offset=3),\n",
    "                                   wall_values=None, \n",
    "                                   wall_thickness=1,\n",
    "                                   img_border_also_collide=False,\n",
    "                                   reflexion_order=1,\n",
    "                                   should_scale_rays=True,\n",
    "                                   should_scale_img=True)\n",
    "ips.ray_tracing.print_rays_info(rays_2)\n",
    "\n",
    "merged_rays = ips.ray_tracing.merge(rays_1, rays_2)\n",
    "ips.ray_tracing.print_rays_info(merged_rays)\n",
    "\n",
    "del merged_rays, rays_1, rays_2"
   ]
  },
  {
   "cell_type": "markdown",
   "id": "bb157dd9",
   "metadata": {},
   "source": [
    "Let's beeing fancy and try out the merging furthermore "
   ]
  },
  {
   "cell_type": "code",
   "execution_count": null,
   "id": "891f2898",
   "metadata": {},
   "outputs": [],
   "source": [
    "rays_ = None\n",
    "max_ = 5\n",
    "for x in range(0, max_):\n",
    "    for y in range(0, max_):\n",
    "        new_rays = ips.ray_tracing.trace_beams(rel_position=[x/(max_-1), y/(max_-1)], \n",
    "                                                img_src=img_src, \n",
    "                                                directions_in_degree=ips.ray_tracing.get_linear_degree_range(start=0, stop=360, step_size=45),\n",
    "                                                wall_values=0.0, \n",
    "                                                wall_thickness=0,\n",
    "                                                img_border_also_collide=False,\n",
    "                                                reflexion_order=2,\n",
    "                                                should_scale_rays=True,\n",
    "                                                should_scale_img=True)\n",
    "        rays_ = ips.ray_tracing.merge(rays_, new_rays) if rays_ else new_rays\n",
    "\n",
    "ray_img = ips.ray_tracing.draw_rays(rays_, \n",
    "                                    detail_draw=False, \n",
    "                                    output_format=\"single_image\", \n",
    "                                    img_background=img, ray_value=0.5, ray_thickness=1, \n",
    "                                    img_shape=(256, 256), dtype=float, standard_value=0,\n",
    "                                    should_scale_rays_to_image=True, original_max_width=None, original_max_height=None)\n",
    "ips.img.imshow(ray_img, size=4, cmap=\"random\")\n",
    "del rays_"
   ]
  },
  {
   "cell_type": "code",
   "execution_count": null,
   "id": "c6648cf4",
   "metadata": {},
   "outputs": [],
   "source": [
    "rays_ = None\n",
    "max_ = 15\n",
    "for x in range(0, max_):\n",
    "    for y in range(0, max_):\n",
    "        new_rays = ips.ray_tracing.trace_beams(rel_position=[x/(max_-1), y/(max_-1)], \n",
    "                                                img_src=img_src, \n",
    "                                                directions_in_degree=ips.ray_tracing.get_linear_degree_range(start=0, stop=360, step_size=45),\n",
    "                                                wall_values=0.0, \n",
    "                                                wall_thickness=0,\n",
    "                                                img_border_also_collide=False,\n",
    "                                                reflexion_order=2,\n",
    "                                                should_scale_rays=True,\n",
    "                                                should_scale_img=True)\n",
    "        rays_ = ips.ray_tracing.merge(rays_, new_rays) if rays_ else new_rays\n",
    "\n",
    "ray_img = ips.ray_tracing.draw_rays(rays_, \n",
    "                                    detail_draw=False, \n",
    "                                    output_format=\"single_image\", \n",
    "                                    img_background=img, ray_value=0.5, ray_thickness=1, \n",
    "                                    img_shape=(256, 256), dtype=float, standard_value=0,\n",
    "                                    should_scale_rays_to_image=True, original_max_width=None, original_max_height=None)\n",
    "ips.img.imshow(ray_img, size=4, cmap=\"random\")\n",
    "del rays_"
   ]
  },
  {
   "cell_type": "code",
   "execution_count": null,
   "id": "f4da27c0",
   "metadata": {},
   "outputs": [],
   "source": [
    "rays_ = None\n",
    "max_ = 3\n",
    "for x in range(0, max_):\n",
    "    for y in range(0, max_):\n",
    "        new_rays = ips.ray_tracing.trace_beams(rel_position=[x/(max_-1), y/(max_-1)], \n",
    "                                                img_src=img_src, \n",
    "                                                directions_in_degree=ips.ray_tracing.get_linear_degree_range(start=0, stop=360, step_size=10),\n",
    "                                                wall_values=0.0, \n",
    "                                                wall_thickness=0,\n",
    "                                                img_border_also_collide=False,\n",
    "                                                reflexion_order=2,\n",
    "                                                should_scale_rays=True,\n",
    "                                                should_scale_img=True)\n",
    "        rays_ = ips.ray_tracing.merge(rays_, new_rays) if rays_ else new_rays\n",
    "\n",
    "ray_img = ips.ray_tracing.draw_rays(rays_, \n",
    "                                    detail_draw=False, \n",
    "                                    output_format=\"single_image\", \n",
    "                                    img_background=img, ray_value=0.5, ray_thickness=1, \n",
    "                                    img_shape=(256, 256), dtype=float, standard_value=0,\n",
    "                                    should_scale_rays_to_image=True, original_max_width=None, original_max_height=None)\n",
    "ips.img.imshow(ray_img, size=4, cmap=\"random\")\n",
    "del rays_"
   ]
  },
  {
   "cell_type": "markdown",
   "id": "8b74cdf1",
   "metadata": {},
   "source": [
    "Let's make it even more fancy and add collision to the rays"
   ]
  },
  {
   "cell_type": "code",
   "execution_count": null,
   "id": "4736ae95",
   "metadata": {},
   "outputs": [],
   "source": [
    "rays_ = None\n",
    "ray_img = None\n",
    "max_ = 5\n",
    "offset = 0\n",
    "for x in range(0, max_):\n",
    "    for y in range(0, max_):\n",
    "        new_rays = ips.ray_tracing.trace_beams(rel_position=[x/(max_-1), y/(max_-1)], \n",
    "                                                img_src=ray_img if type(ray_img) != type(None) else img_src, \n",
    "                                                directions_in_degree=ips.ray_tracing.get_linear_degree_range(start=0, stop=360, step_size=45, offset=offset),\n",
    "                                                wall_values=[0.0, 0.5], \n",
    "                                                wall_thickness=0,\n",
    "                                                img_border_also_collide=False,\n",
    "                                                reflexion_order=2,\n",
    "                                                should_scale_rays=True,\n",
    "                                                should_scale_img=True)\n",
    "        offset += np.random.random() *90\n",
    "        # rays_ = ips.ray_tracing.merge(rays_, new_rays) if rays_ else new_rays\n",
    "\n",
    "        ray_img = ips.ray_tracing.draw_rays(new_rays, \n",
    "                                            detail_draw=False, \n",
    "                                            output_format=\"single_image\", \n",
    "                                            img_background=ray_img if type(ray_img) != type(None) else img, ray_value=0.5, ray_thickness=1, \n",
    "                                            img_shape=(256, 256), dtype=float, standard_value=0,\n",
    "                                            should_scale_rays_to_image=True, original_max_width=None, original_max_height=None)\n",
    "ips.img.imshow(ray_img, size=4, cmap=\"random\")\n",
    "del rays_"
   ]
  },
  {
   "cell_type": "markdown",
   "id": "c7b5de52",
   "metadata": {},
   "source": [
    "---\n",
    "### Draw Rays\n",
    "\n",
    "Export Rays into images. Here we cover some of the major features.\n",
    "\n",
    "- Custom value of ray-traces\n",
    "- Thickness of ray-traces\n",
    "- Drawing on empty image or an existing image\n",
    "    - Given image-shape, dtype and fill-value (standard-value)\n",
    "- Scaling rays to the given image\n",
    "- Different Format Types\n",
    "    - One Image\n",
    "    - Multiple Images (each ray on one image)\n",
    "    - One Image and each channel is one ray\n",
    "- Showing only the reflexions\n",
    "- Give different values for different reflexion orders"
   ]
  },
  {
   "cell_type": "markdown",
   "id": "b4c304d0",
   "metadata": {},
   "source": [
    "**Basics**: Use the `ips.ray_tracing.draw_rays` to draw rays or use the `ips.ray_tracing.trace_and_draw_rays` to calculate the rays and draw/export these as an image and this for multiple images. \n",
    "\n",
    "Via the `ray_value` you set the pixel value which the rays should get in the image. The `ray_thickness` defines how thick the ray lines/points should get plottet /drawn on the image."
   ]
  },
  {
   "cell_type": "code",
   "execution_count": null,
   "id": "a8ad691c",
   "metadata": {},
   "outputs": [],
   "source": [
    "ray_img = ips.ray_tracing.draw_rays(rays, detail_draw=False, \n",
    "                                    output_format=\"single_image\", \n",
    "                                    img_background=None, ray_value=2, ray_thickness=1, \n",
    "                                    img_shape=(256, 256), dtype=float, standard_value=0,\n",
    "                                    should_scale_rays_to_image=True, original_max_width=None, original_max_height=None)\n",
    "ips.img.imshow(ray_img, size=4)"
   ]
  },
  {
   "cell_type": "code",
   "execution_count": null,
   "id": "a6b3ee6a",
   "metadata": {},
   "outputs": [],
   "source": [
    "ray_img = ips.ray_tracing.draw_rays(rays, detail_draw=False, \n",
    "                                    output_format=\"single_image\", \n",
    "                                    img_background=None, ray_value=2, ray_thickness=1, \n",
    "                                    img_shape=(256, 256), dtype=float, standard_value=0,\n",
    "                                    should_scale_rays_to_image=True, original_max_width=None, original_max_height=None)\n",
    "ips.img.imshow(ray_img, size=4)"
   ]
  },
  {
   "cell_type": "code",
   "execution_count": null,
   "id": "9c9ddb27",
   "metadata": {},
   "outputs": [],
   "source": [
    "ray_img = ips.ray_tracing.draw_rays(rays, detail_draw=False, \n",
    "                                    output_format=\"single_image\", \n",
    "                                    img_background=None, ray_value=2, ray_thickness=4, \n",
    "                                    img_shape=(256, 256), dtype=float, standard_value=0,\n",
    "                                    should_scale_rays_to_image=True, original_max_width=None, original_max_height=None)\n",
    "ips.img.imshow(ray_img, size=4)"
   ]
  },
  {
   "cell_type": "code",
   "execution_count": null,
   "id": "470e97fa",
   "metadata": {},
   "outputs": [],
   "source": [
    "ray_img = ips.ray_tracing.draw_rays(rays, detail_draw=False, \n",
    "                                    output_format=\"single_image\", \n",
    "                                    img_background=None, ray_value=24, ray_thickness=1, \n",
    "                                    img_shape=(256, 256), dtype=float, standard_value=0,\n",
    "                                    should_scale_rays_to_image=True, original_max_width=None, original_max_height=None)\n",
    "ips.img.show_image_with_line_and_profile(imgs=[ray_img], axis='column', index=None, titles=None, figsize=(11, 8));"
   ]
  },
  {
   "cell_type": "markdown",
   "id": "d0ac5670",
   "metadata": {},
   "source": [
    "**Detail Levels**: There are 2 levels of detail. \n",
    "1. One is exactly the way the rays got calculated pixel by pixel\n",
    "2. The other is an approximation where lines are drawn from only he star tand the end point of each beam\n",
    "\n",
    "See that here:"
   ]
  },
  {
   "cell_type": "code",
   "execution_count": null,
   "id": "c89d9f9b",
   "metadata": {},
   "outputs": [],
   "source": [
    "ray_img = ips.ray_tracing.draw_rays(rays, detail_draw=True, \n",
    "                                    output_format=\"single_image\", \n",
    "                                    img_background=None, ray_value=2, ray_thickness=1, \n",
    "                                    img_shape=(256, 256), dtype=float, standard_value=0,\n",
    "                                    should_scale_rays_to_image=True, original_max_width=None, original_max_height=None)\n",
    "print(ray_img.shape)\n",
    "ips.img.imshow(ray_img, size=5)"
   ]
  },
  {
   "cell_type": "code",
   "execution_count": null,
   "id": "1cd8e8fd",
   "metadata": {},
   "outputs": [],
   "source": [
    "ray_img = ips.ray_tracing.draw_rays(rays, detail_draw=False, \n",
    "                                    output_format=\"single_image\", \n",
    "                                    img_background=None, ray_value=2, ray_thickness=1, \n",
    "                                    img_shape=(256, 256), dtype=float, standard_value=0,\n",
    "                                    should_scale_rays_to_image=True, original_max_width=None, original_max_height=None)\n",
    "print(ray_img.shape)\n",
    "ips.img.imshow(ray_img, size=5)"
   ]
  },
  {
   "cell_type": "markdown",
   "id": "23632a89",
   "metadata": {},
   "source": [
    "**Background Image**: For each format you can choose if you want an empty image or an background image. For the empty image you can use the `image_shape`, `dtype` and the `standard_value` to set the base settings for your image."
   ]
  },
  {
   "cell_type": "code",
   "execution_count": null,
   "id": "f98e86f8",
   "metadata": {},
   "outputs": [],
   "source": [
    "ray_img = ips.ray_tracing.draw_rays(rays, detail_draw=True, \n",
    "                                    output_format=\"single_image\", \n",
    "                                    img_background=None, ray_value=0, ray_thickness=1, \n",
    "                                    img_shape=(256, 256), dtype=float, standard_value=255,\n",
    "                                    should_scale_rays_to_image=True, original_max_width=None, original_max_height=None)\n",
    "print(ray_img.shape)\n",
    "ips.img.imshow(ray_img, size=5)"
   ]
  },
  {
   "cell_type": "code",
   "execution_count": null,
   "id": "f36f6bc5",
   "metadata": {},
   "outputs": [],
   "source": [
    "ray_img = ips.ray_tracing.draw_rays(rays, detail_draw=False, \n",
    "                                    output_format=\"single_image\", \n",
    "                                    img_background=img, ray_value=2, ray_thickness=1, \n",
    "                                    img_shape=(256, 256), dtype=float, standard_value=0,\n",
    "                                    should_scale_rays_to_image=True, original_max_width=None, original_max_height=None)\n",
    "print(ray_img.shape)\n",
    "ips.img.imshow(ray_img, size=5)"
   ]
  },
  {
   "cell_type": "markdown",
   "id": "75ca4922",
   "metadata": {},
   "source": [
    "This comes also useful with the auto scaling with the image:"
   ]
  },
  {
   "cell_type": "code",
   "execution_count": null,
   "id": "f639e081",
   "metadata": {},
   "outputs": [],
   "source": [
    "ray_img = ips.ray_tracing.draw_rays(rays, detail_draw=True, \n",
    "                                    output_format=\"single_image\", \n",
    "                                    img_background=None, ray_value=0, ray_thickness=1, \n",
    "                                    img_shape=(512, 512), dtype=float, standard_value=255,\n",
    "                                    should_scale_rays_to_image=True, original_max_width=None, original_max_height=None)\n",
    "print(ray_img.shape)\n",
    "ips.img.imshow(ray_img, size=4, axis_off=False)"
   ]
  },
  {
   "cell_type": "markdown",
   "id": "aef0f5ad",
   "metadata": {},
   "source": [
    "**Formats:**\n",
    "\n",
    "There are 3 formats: as a single image, every ray as a single image (so multiple image output) or one image output but with multiple channels and each ray is in one ray. <br>\n",
    "In every format you can set a background image or a compelte new image.\n",
    "\n",
    "<br><br>\n",
    "\n",
    "We already saw the single image, let's have a look on the other 2 formats:"
   ]
  },
  {
   "cell_type": "code",
   "execution_count": null,
   "id": "9093aecf",
   "metadata": {},
   "outputs": [],
   "source": [
    "ray_img = ips.ray_tracing.draw_rays(rays, detail_draw=True,\n",
    "                                    output_format=\"multiple_images\", \n",
    "                                    img_background=None, ray_value=2, ray_thickness=1, \n",
    "                                    img_shape=(256, 256), dtype=float, standard_value=0,\n",
    "                                    should_scale_rays_to_image=True, original_max_width=None, original_max_height=None)\n",
    "print(len(ray_img))\n",
    "print(ray_img[0].shape)\n",
    "ips.img.advanced_imshow(random.sample(ray_img, min(len(ray_img), 5)), title=None, image_width=5, axis=False,\n",
    "                        color_space=\"RGB\", cmap=None, cols=min(len(ray_img), 5), save_to=None,\n",
    "                        hspace=0.2, wspace=0.2,\n",
    "                        use_original_style=False, invert=False)"
   ]
  },
  {
   "cell_type": "code",
   "execution_count": null,
   "id": "96f5eaa5",
   "metadata": {},
   "outputs": [],
   "source": [
    "ray_img = ips.ray_tracing.draw_rays(rays, detail_draw=True,\n",
    "                                    output_format=\"multiple_images\", \n",
    "                                    img_background=img, ray_value=2, ray_thickness=1, \n",
    "                                    img_shape=(256, 256), dtype=float, standard_value=0,\n",
    "                                    should_scale_rays_to_image=True, original_max_width=None, original_max_height=None)\n",
    "print(len(ray_img))\n",
    "print(ray_img[0].shape)\n",
    "ips.img.advanced_imshow(random.sample(ray_img, min(len(ray_img), 5)), title=None, image_width=10, axis=False,\n",
    "                        color_space=\"RGB\", cmap=None, cols=min(len(ray_img), 5), save_to=None,\n",
    "                        hspace=0.2, wspace=0.2,\n",
    "                        use_original_style=False, invert=False)"
   ]
  },
  {
   "cell_type": "markdown",
   "id": "ad765f6f",
   "metadata": {},
   "source": [
    "Let's see the channels and notice the output of the shape!"
   ]
  },
  {
   "cell_type": "code",
   "execution_count": null,
   "id": "26fba76f",
   "metadata": {},
   "outputs": [],
   "source": [
    "ray_img = ips.ray_tracing.draw_rays(rays, detail_draw=True,\n",
    "                                    output_format=\"channels\", \n",
    "                                    img_background=None, ray_value=2, ray_thickness=1, \n",
    "                                    img_shape=(256, 256), dtype=float, standard_value=0,\n",
    "                                    should_scale_rays_to_image=True, original_max_width=None, original_max_height=None)\n",
    "print(ray_img.shape)\n",
    "ips.img.imshow(ray_img[..., 0], size=5)"
   ]
  },
  {
   "cell_type": "code",
   "execution_count": null,
   "id": "d5569445",
   "metadata": {},
   "outputs": [],
   "source": [
    "ray_img = ips.ray_tracing.draw_rays(rays, detail_draw=True,\n",
    "                                    output_format=\"channels\", \n",
    "                                    img_background=img, ray_value=2, ray_thickness=1, \n",
    "                                    img_shape=(256, 256), dtype=float, standard_value=0,\n",
    "                                    should_scale_rays_to_image=True, original_max_width=None, original_max_height=None)\n",
    "print(ray_img.shape)\n",
    "ips.img.imshow(ray_img[..., 0], size=5)"
   ]
  },
  {
   "cell_type": "markdown",
   "id": "067842be",
   "metadata": {},
   "source": [
    "We can also pass multiple values for the rays which will give the different reflexion order different values "
   ]
  },
  {
   "cell_type": "code",
   "execution_count": null,
   "id": "bb28d472",
   "metadata": {},
   "outputs": [],
   "source": [
    "ray_img = ips.ray_tracing.draw_rays(rays, detail_draw=False, \n",
    "                                    output_format=\"single_image\", \n",
    "                                    img_background=None, ray_value=[1.0, 2.0], ray_thickness=1, \n",
    "                                    img_shape=(256, 256), dtype=float, standard_value=0,\n",
    "                                    should_scale_rays_to_image=True, original_max_width=None, original_max_height=None)\n",
    "ips.img.imshow(ray_img, size=4, cmap=\"inferno\")\n",
    "ips.img.show_image_with_line_and_profile(imgs=[ray_img], axis='column', index=None, titles=None, figsize=(11, 8));"
   ]
  },
  {
   "cell_type": "code",
   "execution_count": null,
   "id": "3dea8567",
   "metadata": {},
   "outputs": [],
   "source": [
    "rays_ = ips.ray_tracing.trace_beams(rel_position=[0.5, 0.5], \n",
    "                                   img_src=img_src, \n",
    "                                   directions_in_degree=ips.ray_tracing.get_linear_degree_range(start=0, stop=360, step_size=10),\n",
    "                                   wall_values=None, \n",
    "                                   wall_thickness=1,\n",
    "                                   img_border_also_collide=False,\n",
    "                                   reflexion_order=5,\n",
    "                                   should_scale_rays=True,\n",
    "                                   should_scale_img=True)\n",
    "\n",
    "ray_img = ips.ray_tracing.draw_rays(rays_, detail_draw=False, \n",
    "                                    output_format=\"single_image\", \n",
    "                                    img_background=None, ray_value=[1.0, 2.0, 3.0], ray_thickness=1, \n",
    "                                    img_shape=(256, 256), dtype=float, standard_value=0,\n",
    "                                    should_scale_rays_to_image=True, original_max_width=None, original_max_height=None)\n",
    "ips.img.imshow(ray_img, size=4, cmap=\"inferno\")\n",
    "ips.img.show_image_with_line_and_profile(imgs=[ray_img], axis='column', index=None, titles=None, figsize=(11, 8));\n",
    "\n",
    "ray_img = ips.ray_tracing.draw_rays(rays_, detail_draw=False, \n",
    "                                    output_format=\"single_image\", \n",
    "                                    img_background=None, ray_value=[1.0, 2.0, 3.0, 4.0, 5.0], ray_thickness=1, \n",
    "                                    img_shape=(256, 256), dtype=float, standard_value=0,\n",
    "                                    should_scale_rays_to_image=True, original_max_width=None, original_max_height=None)\n",
    "ips.img.imshow(ray_img, size=4, cmap=\"inferno\")\n",
    "ips.img.show_image_with_line_and_profile(imgs=[ray_img], axis='column', index=None, titles=None, figsize=(11, 8));"
   ]
  },
  {
   "cell_type": "markdown",
   "id": "3523b906",
   "metadata": {},
   "source": [
    "---\n",
    "### Comparison with Physgen Reflections"
   ]
  },
  {
   "cell_type": "code",
   "execution_count": null,
   "id": "a26c6cde",
   "metadata": {},
   "outputs": [],
   "source": [
    "input_, output_ = get_image(mode='train', variation=\"sound_reflection\", input_type=\"osm\", output_type=\"complex_only\", \n",
    "               shuffle=False, return_output=True, as_numpy_array=True)\n",
    "\n",
    "input_src = \"./cache_img_1_input.png\"\n",
    "ips.img.save(input_, input_src, should_scale=False)\n",
    "\n",
    "output_src = \"./cache_img_1_output.png\"\n",
    "ips.img.save(output_, output_src, should_scale=False)"
   ]
  },
  {
   "cell_type": "code",
   "execution_count": null,
   "id": "9b9da621",
   "metadata": {},
   "outputs": [],
   "source": [
    "ips.img.imshow(output_, size=5)"
   ]
  },
  {
   "cell_type": "code",
   "execution_count": null,
   "id": "a3809aac",
   "metadata": {},
   "outputs": [],
   "source": [
    "rays = ips.ray_tracing.trace_beams(rel_position=[0.5, 0.5], \n",
    "                                   img_src=input_src, \n",
    "                                   directions_in_degree=ips.ray_tracing.get_linear_degree_range(start=0, stop=360, step_size=10),\n",
    "                                   wall_values=None, \n",
    "                                   wall_thickness=0,\n",
    "                                   img_border_also_collide=False,\n",
    "                                   reflexion_order=3,\n",
    "                                   should_scale_rays=True,\n",
    "                                   should_scale_img=False)\n",
    "ips.ray_tracing.print_rays_info(rays)"
   ]
  },
  {
   "cell_type": "code",
   "execution_count": null,
   "id": "f3bcf0ac",
   "metadata": {},
   "outputs": [],
   "source": [
    "ray_img = ips.ray_tracing.draw_rays(rays, detail_draw=False, \n",
    "                                    output_format=\"single_image\", \n",
    "                                    img_background=input_, ray_value=2, ray_thickness=1, \n",
    "                                    img_shape=(256, 256), dtype=float, standard_value=0,\n",
    "                                    should_scale_rays_to_image=True, original_max_width=None, original_max_height=None)\n",
    "ips.img.imshow(ray_img, size=4)"
   ]
  },
  {
   "cell_type": "code",
   "execution_count": null,
   "id": "361fcdfc",
   "metadata": {},
   "outputs": [],
   "source": [
    "ray_img = ips.ray_tracing.draw_rays(rays, detail_draw=False, \n",
    "                                    output_format=\"single_image\", \n",
    "                                    img_background=output_, ray_value=0.5, ray_thickness=1, \n",
    "                                    img_shape=(256, 256), dtype=float, standard_value=0,\n",
    "                                    should_scale_rays_to_image=True, original_max_width=None, original_max_height=None)\n",
    "ips.img.imshow(ray_img, size=4)"
   ]
  },
  {
   "cell_type": "code",
   "execution_count": null,
   "id": "e8f40db1",
   "metadata": {},
   "outputs": [],
   "source": [
    "ray_img = ips.ray_tracing.draw_rays(rays, detail_draw=False, \n",
    "                                    output_format=\"single_image\", \n",
    "                                    img_background=output_, ray_value=0.5, ray_thickness=1, \n",
    "                                    img_shape=(256, 256), dtype=float, standard_value=0,\n",
    "                                    should_scale_rays_to_image=True, original_max_width=None, original_max_height=None,\n",
    "                                    show_only_reflections=True)\n",
    "ips.img.imshow(ray_img, size=4)"
   ]
  },
  {
   "cell_type": "markdown",
   "id": "24085761",
   "metadata": {},
   "source": [
    "On normal target (not only complex)"
   ]
  },
  {
   "cell_type": "code",
   "execution_count": null,
   "id": "5191a980",
   "metadata": {},
   "outputs": [],
   "source": [
    "# get image\n",
    "input_, output_ = get_image(mode='train', variation=\"sound_reflection\", input_type=\"osm\", output_type=\"standard\", \n",
    "               shuffle=False, return_output=True, as_numpy_array=True)\n",
    "\n",
    "input_src = \"./cache_img_1_input.png\"\n",
    "ips.img.save(input_, input_src, should_scale=False)\n",
    "\n",
    "output_src = \"./cache_img_1_output.png\"\n",
    "ips.img.save(output_, output_src, should_scale=False)\n",
    "\n",
    "ips.img.imshow(output_, size=5)\n",
    "\n",
    "# calc rays\n",
    "rays = ips.ray_tracing.trace_beams(rel_position=[0.5, 0.5], \n",
    "                                   img_src=input_src, \n",
    "                                   directions_in_degree=ips.ray_tracing.get_linear_degree_range(start=0, stop=360, step_size=10),\n",
    "                                   wall_values=None, \n",
    "                                   wall_thickness=0,\n",
    "                                   img_border_also_collide=False,\n",
    "                                   reflexion_order=3,\n",
    "                                   should_scale_rays=True,\n",
    "                                   should_scale_img=False)\n",
    "\n",
    "# show rays on input\n",
    "ray_img = ips.ray_tracing.draw_rays(rays, detail_draw=False, \n",
    "                                    output_format=\"single_image\", \n",
    "                                    img_background=input_, ray_value=2, ray_thickness=1, \n",
    "                                    img_shape=(256, 256), dtype=float, standard_value=0,\n",
    "                                    should_scale_rays_to_image=True, original_max_width=None, original_max_height=None)\n",
    "ips.img.imshow(ray_img, size=4, cmap=\"inferno\")\n",
    "\n",
    "# show rays on output\n",
    "ray_img = ips.ray_tracing.draw_rays(rays, detail_draw=False, \n",
    "                                    output_format=\"single_image\", \n",
    "                                    img_background=output_, ray_value=1.3, ray_thickness=1, \n",
    "                                    img_shape=(256, 256), dtype=float, standard_value=0,\n",
    "                                    should_scale_rays_to_image=True, original_max_width=None, original_max_height=None)\n",
    "ips.img.imshow(ray_img, size=4)"
   ]
  },
  {
   "cell_type": "markdown",
   "id": "4575b658",
   "metadata": {},
   "source": [
    "With more rays"
   ]
  },
  {
   "cell_type": "code",
   "execution_count": null,
   "id": "14710dc3",
   "metadata": {},
   "outputs": [],
   "source": [
    "# get image\n",
    "input_, output_ = get_image(mode='train', variation=\"sound_reflection\", input_type=\"osm\", output_type=\"standard\", \n",
    "               shuffle=False, return_output=True, as_numpy_array=True)\n",
    "\n",
    "input_src = \"./cache_img_1_input.png\"\n",
    "ips.img.save(input_, input_src, should_scale=False)\n",
    "\n",
    "output_src = \"./cache_img_1_output.png\"\n",
    "ips.img.save(output_, output_src, should_scale=False)\n",
    "\n",
    "ips.img.imshow(output_, size=5)\n",
    "\n",
    "# calc rays\n",
    "rays = ips.ray_tracing.trace_beams(rel_position=[0.5, 0.5], \n",
    "                                   img_src=input_src, \n",
    "                                   directions_in_degree=ips.ray_tracing.get_linear_degree_range(start=0, stop=360, step_size=1),\n",
    "                                   wall_values=None, \n",
    "                                   wall_thickness=1,\n",
    "                                   img_border_also_collide=False,\n",
    "                                   reflexion_order=3,\n",
    "                                   should_scale_rays=True,\n",
    "                                   should_scale_img=False)\n",
    "\n",
    "# show rays on input\n",
    "ray_img = ips.ray_tracing.draw_rays(rays, detail_draw=False, \n",
    "                                    output_format=\"single_image\", \n",
    "                                    img_background=input_, ray_value=2, ray_thickness=1, \n",
    "                                    img_shape=(256, 256), dtype=float, standard_value=0,\n",
    "                                    should_scale_rays_to_image=True, original_max_width=None, original_max_height=None)\n",
    "ips.img.imshow(ray_img, size=4)\n",
    "\n",
    "# show rays on output\n",
    "ray_img = ips.ray_tracing.draw_rays(rays, detail_draw=False, \n",
    "                                    output_format=\"single_image\", \n",
    "                                    img_background=output_, ray_value=1.3, ray_thickness=1, \n",
    "                                    img_shape=(256, 256), dtype=float, standard_value=0,\n",
    "                                    should_scale_rays_to_image=True, original_max_width=None, original_max_height=None)\n",
    "ips.img.imshow(ray_img, size=4)"
   ]
  },
  {
   "cell_type": "code",
   "execution_count": null,
   "id": "8203ce5c",
   "metadata": {},
   "outputs": [],
   "source": [
    "# get image\n",
    "input_, output_ = get_image(mode='train', variation=\"sound_reflection\", input_type=\"osm\", output_type=\"standard\", \n",
    "               shuffle=False, return_output=True, as_numpy_array=True)\n",
    "\n",
    "input_src = \"./cache_img_1_input.png\"\n",
    "ips.img.save(input_, input_src, should_scale=False)\n",
    "\n",
    "output_src = \"./cache_img_1_output.png\"\n",
    "ips.img.save(output_, output_src, should_scale=False)"
   ]
  },
  {
   "cell_type": "code",
   "execution_count": null,
   "id": "00248972",
   "metadata": {},
   "outputs": [],
   "source": [
    "# get image\n",
    "ips.img.imshow(output_, size=5)\n",
    "\n",
    "# calc rays\n",
    "rays = ips.ray_tracing.trace_beams(rel_position=[0.5, 0.5], \n",
    "                                   img_src=input_src, \n",
    "                                   directions_in_degree=ips.ray_tracing.get_linear_degree_range(start=0, stop=360, step_size=1),\n",
    "                                   wall_values=None, \n",
    "                                   wall_thickness=0,\n",
    "                                   img_border_also_collide=False,\n",
    "                                   reflexion_order=3,\n",
    "                                   should_scale_rays=True,\n",
    "                                   should_scale_img=False)\n",
    "\n",
    "# show rays on input\n",
    "ray_img = ips.ray_tracing.draw_rays(rays, detail_draw=False, \n",
    "                                    output_format=\"single_image\", \n",
    "                                    img_background=input_, ray_value=2, ray_thickness=1, \n",
    "                                    img_shape=(256, 256), dtype=float, standard_value=0,\n",
    "                                    should_scale_rays_to_image=True, original_max_width=None, original_max_height=None,\n",
    "                                    show_only_reflections=True)\n",
    "ips.img.imshow(ray_img, size=4)\n",
    "\n",
    "# show rays on output\n",
    "ray_img = ips.ray_tracing.draw_rays(rays, detail_draw=False, \n",
    "                                    output_format=\"single_image\", \n",
    "                                    img_background=output_, ray_value=1.3, ray_thickness=1, \n",
    "                                    img_shape=(256, 256), dtype=float, standard_value=0,\n",
    "                                    should_scale_rays_to_image=True, original_max_width=None, original_max_height=None,\n",
    "                                    show_only_reflections=True)\n",
    "ips.img.imshow(ray_img, size=4)"
   ]
  },
  {
   "cell_type": "code",
   "execution_count": null,
   "id": "a0f7f76d",
   "metadata": {},
   "outputs": [],
   "source": [
    "ips.img.imshow(output_, size=5)\n",
    "\n",
    "# calc rays\n",
    "rays = ips.ray_tracing.trace_beams(rel_position=[0.5, 0.5], \n",
    "                                   img_src=input_src, \n",
    "                                   directions_in_degree=ips.ray_tracing.get_linear_degree_range(start=0, stop=360, step_size=5),\n",
    "                                   wall_values=None, \n",
    "                                   wall_thickness=1,\n",
    "                                   img_border_also_collide=False,\n",
    "                                   reflexion_order=3,\n",
    "                                   should_scale_rays=True,\n",
    "                                   should_scale_img=False)\n",
    "\n",
    "# show rays on input\n",
    "ray_img = ips.ray_tracing.draw_rays(rays, detail_draw=False, \n",
    "                                    output_format=\"single_image\", \n",
    "                                    img_background=input_, ray_value=2, ray_thickness=1, \n",
    "                                    img_shape=(256, 256), dtype=float, standard_value=0,\n",
    "                                    should_scale_rays_to_image=True, original_max_width=None, original_max_height=None,\n",
    "                                    show_only_reflections=True)\n",
    "ips.img.imshow(ray_img, size=4)\n",
    "\n",
    "# show rays on output\n",
    "ray_img = ips.ray_tracing.draw_rays(rays, detail_draw=False, \n",
    "                                    output_format=\"single_image\", \n",
    "                                    img_background=output_, ray_value=1.3, ray_thickness=1, \n",
    "                                    img_shape=(256, 256), dtype=float, standard_value=0,\n",
    "                                    should_scale_rays_to_image=True, original_max_width=None, original_max_height=None,\n",
    "                                    show_only_reflections=True)\n",
    "ips.img.imshow(ray_img, size=4)"
   ]
  },
  {
   "cell_type": "code",
   "execution_count": null,
   "id": "52a67a29",
   "metadata": {},
   "outputs": [],
   "source": [
    "# # get image\n",
    "# ips.img.imshow(output_, size=5)\n",
    "\n",
    "# # calc rays\n",
    "# rays = ips.ray_tracing.trace_beams(rel_position=[0.5, 0.5], \n",
    "#                                    img_src=input_src, \n",
    "#                                    directions_in_degree=ips.ray_tracing.get_linear_degree_range(start=0, stop=360, step_size=0.1),\n",
    "#                                    wall_values=None, \n",
    "#                                    wall_thickness=0,\n",
    "#                                    img_border_also_collide=False,\n",
    "#                                    reflexion_order=3,\n",
    "#                                    should_scale_rays=True,\n",
    "#                                    should_scale_img=False)\n",
    "\n",
    "# # show rays on input\n",
    "# ray_img = ips.ray_tracing.draw_rays(rays, detail_draw=False, \n",
    "#                                     output_format=\"single_image\", \n",
    "#                                     img_background=input_, ray_value=2, ray_thickness=1, \n",
    "#                                     img_shape=(256, 256), dtype=float, standard_value=0,\n",
    "#                                     should_scale_rays_to_image=True, original_max_width=None, original_max_height=None,\n",
    "#                                     show_only_reflections=True)\n",
    "# ips.img.imshow(ray_img, size=4)\n",
    "\n",
    "# # show rays on output\n",
    "# ray_img = ips.ray_tracing.draw_rays(rays, detail_draw=False, \n",
    "#                                     output_format=\"single_image\", \n",
    "#                                     img_background=output_, ray_value=1.3, ray_thickness=1, \n",
    "#                                     img_shape=(256, 256), dtype=float, standard_value=0,\n",
    "#                                     should_scale_rays_to_image=True, original_max_width=None, original_max_height=None,\n",
    "#                                     show_only_reflections=True)\n",
    "# ips.img.imshow(ray_img, size=4)"
   ]
  },
  {
   "cell_type": "markdown",
   "id": "b328c8cc",
   "metadata": {},
   "source": [
    "---"
   ]
  }
 ],
 "metadata": {
  "kernelspec": {
   "display_name": "img-phy-sim",
   "language": "python",
   "name": "python3"
  },
  "language_info": {
   "codemirror_mode": {
    "name": "ipython",
    "version": 3
   },
   "file_extension": ".py",
   "mimetype": "text/x-python",
   "name": "python",
   "nbconvert_exporter": "python",
   "pygments_lexer": "ipython3",
   "version": "3.13.7"
  }
 },
 "nbformat": 4,
 "nbformat_minor": 5
}
