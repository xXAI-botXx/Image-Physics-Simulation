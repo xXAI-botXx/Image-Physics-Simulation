{
 "cells": [
  {
   "cell_type": "markdown",
   "id": "91c135b9",
   "metadata": {},
   "source": [
    "# Ray Tracing with Physgen Dataset\n",
    "\n",
    "An example of using the ips framework (img_phy_sim).\n",
    "\n",
    "The `ips.ray_tracing` part contains all useful functions to trace rays on 2D images.<br>\n",
    "The `ips.img` provides very useful functions to work with images. Most of it are for showing images.\n",
    "\n",
    "Contents:\n",
    "- [Imports](#imports)\n",
    "- [Data Loading](#data-loading)\n",
    "- [Showing the Image](#showing-the-image)\n",
    "- [Wall Maps](#wall-maps)\n",
    "- [Ray Tracing](#ray-tracing)\n",
    "- [Draw Rays](#draw-rays)\n",
    "- [Everything in one method](#everything-in-one-method)\n",
    "- [Comparison with Physgen Reflections](#comparison-with-physgen-reflections)"
   ]
  },
  {
   "cell_type": "markdown",
   "id": "5d5d3e82",
   "metadata": {},
   "source": [
    "---\n",
    "### Imports"
   ]
  },
  {
   "cell_type": "code",
   "execution_count": null,
   "id": "0df9b6b2",
   "metadata": {},
   "outputs": [],
   "source": [
    "import sys\n",
    "sys.path += [\"..\"] # os.path.abspath(\"../img-phy-sim\")\n",
    "\n",
    "import img_phy_sim as ips\n",
    "\n",
    "import os\n",
    "import random\n",
    "\n",
    "import numpy as np"
   ]
  },
  {
   "cell_type": "markdown",
   "id": "f1c581d8",
   "metadata": {},
   "source": [
    "---\n",
    "### Data Loading"
   ]
  },
  {
   "cell_type": "code",
   "execution_count": null,
   "id": "c31dc323",
   "metadata": {},
   "outputs": [],
   "source": [
    "data_path = \"../datasets/physgen_train_raw/osm/\"\n",
    "\n",
    "img_src = data_path + random.sample(os.listdir(data_path), 1)[0]\n",
    "img_src"
   ]
  },
  {
   "cell_type": "markdown",
   "id": "c13b6953",
   "metadata": {},
   "source": [
    "---\n",
    "### Showing the Image"
   ]
  },
  {
   "cell_type": "code",
   "execution_count": null,
   "id": "1d157fc2",
   "metadata": {},
   "outputs": [],
   "source": [
    "img = ips.img.open(src=img_src, should_scale=True, should_print=True)\n",
    "ips.img.imshow(img, size=4, axis_off=False)"
   ]
  },
  {
   "cell_type": "code",
   "execution_count": null,
   "id": "2a0ee832",
   "metadata": {},
   "outputs": [],
   "source": [
    "ips.img.show_image_with_line_and_profile(imgs=[img], axis='row', index=None, titles=None, figsize=(10, 8));"
   ]
  },
  {
   "cell_type": "markdown",
   "id": "b4d604fd",
   "metadata": {},
   "source": [
    "---\n",
    "### Wall Map\n",
    "\n",
    "The Wall Map shows the angle of the walls everything else is infinite.\n",
    "\n",
    "This function will be automatically called from the `ips.ray_tracing.trace_beam` function. Therefore most of the time this function does not get called alone.\n",
    "\n",
    "It features:\n",
    "- `thickness`: custom thickness of the wall-map\n",
    "- `wall_values`: auto edge detection or edge detection by given pixel-values, so possible are these 3 methods: None or 240 or [1.0, 0.5, 0.4]"
   ]
  },
  {
   "cell_type": "code",
   "execution_count": null,
   "id": "bb900509",
   "metadata": {},
   "outputs": [],
   "source": [
    "wall_map = ips.ray_tracing.get_wall_map(img, wall_values=None, thickness=0)\n",
    "ips.img.imshow(wall_map, size=4, axis_off=False)"
   ]
  },
  {
   "cell_type": "code",
   "execution_count": null,
   "id": "fb9696f8",
   "metadata": {},
   "outputs": [],
   "source": [
    "ips.img.show_image_with_line_and_profile(imgs=[wall_map], axis='row', index=None, titles=None, figsize=(10, 8));"
   ]
  },
  {
   "cell_type": "code",
   "execution_count": null,
   "id": "7bc7add8",
   "metadata": {},
   "outputs": [],
   "source": [
    "ips.img.show_image_with_line_and_profile(imgs=[wall_map], axis='column', index=None, titles=None, figsize=(10, 8));"
   ]
  },
  {
   "cell_type": "code",
   "execution_count": null,
   "id": "3db46cbf",
   "metadata": {},
   "outputs": [],
   "source": [
    "ips.img.imshow(ips.ray_tracing.get_wall_map(img, wall_values=None, thickness=1), size=4, axis_off=False)"
   ]
  },
  {
   "cell_type": "code",
   "execution_count": null,
   "id": "9507c858",
   "metadata": {},
   "outputs": [],
   "source": [
    "ips.img.imshow(ips.ray_tracing.get_wall_map(img, wall_values=None, thickness=2), size=4, axis_off=False)"
   ]
  },
  {
   "cell_type": "code",
   "execution_count": null,
   "id": "2ff0e0b8",
   "metadata": {},
   "outputs": [],
   "source": [
    "ips.img.imshow(ips.ray_tracing.get_wall_map(img, wall_values=0.0, thickness=0), size=4, axis_off=False)"
   ]
  },
  {
   "cell_type": "code",
   "execution_count": null,
   "id": "c1364794",
   "metadata": {},
   "outputs": [],
   "source": [
    "ips.img.plot_image_with_values(wall_map, block_size=8, \n",
    "                               cmap='gray', title=None, \n",
    "                               font_size=10, save_to=None)"
   ]
  },
  {
   "cell_type": "markdown",
   "id": "ec1d668d",
   "metadata": {},
   "source": [
    "---\n",
    "### Ray Tracing\n",
    "\n",
    "The `ips.ray_tracing.trace_beams` is the function to use for simulating the 2D ray tracing on an image.\n",
    "\n",
    "Features are:\n",
    "- Setting custom startposition for raytracing\n",
    "- Adding custom beam shooting positions in degree (where 0° is the east/right of the image and 90° is south/bottom and so on)\n",
    "- Setting reflexion order (how maxium reflexions should be calculated)\n",
    "- Setting if the border of the image should be reflective or not\n",
    "- And setting if the input image should be scaled and if the rays itself should be scaled\n",
    "- You can also set the \"wall\" object values, which should get detected as objects with collision. If set to None, the programm will find all clear edges.\n",
    "\n",
    "> Notice that the \"wall\" values will changed if you scale the image\n",
    "\n",
    "Use the `ips.ray_tracing.print_rays_info` function to print informations about your rays."
   ]
  },
  {
   "cell_type": "code",
   "execution_count": null,
   "id": "1dc59c85",
   "metadata": {},
   "outputs": [],
   "source": [
    "rays = ips.ray_tracing.trace_beams(rel_position=[0.5, 0.5], \n",
    "                                   img_src=img_src, \n",
    "                                   directions_in_degree=[0, 45],\n",
    "                                   wall_values=None, \n",
    "                                   wall_thickness=1,\n",
    "                                   img_border_also_collide=False,\n",
    "                                   reflexion_order=0,\n",
    "                                   should_scale_rays=True,\n",
    "                                   should_scale_img=True)\n",
    "ips.ray_tracing.print_rays_info(rays)"
   ]
  },
  {
   "cell_type": "code",
   "execution_count": null,
   "id": "1f86bc06",
   "metadata": {},
   "outputs": [],
   "source": [
    "rays = ips.ray_tracing.trace_beams(rel_position=[0.5, 0.5], \n",
    "                                   img_src=img_src, \n",
    "                                   directions_in_degree=ips.ray_tracing.get_linear_degree_range(step_size=10),\n",
    "                                   wall_values=None, \n",
    "                                   wall_thickness=1,\n",
    "                                   img_border_also_collide=False,\n",
    "                                   reflexion_order=1,\n",
    "                                   should_scale_rays=True,\n",
    "                                   should_scale_img=True)\n",
    "ips.ray_tracing.print_rays_info(rays)"
   ]
  },
  {
   "cell_type": "code",
   "execution_count": null,
   "id": "25f0f516",
   "metadata": {},
   "outputs": [],
   "source": [
    "rays_ = ips.ray_tracing.trace_beams(rel_position=[0.5, 0.5], \n",
    "                                   img_src=img_src, \n",
    "                                   directions_in_degree=[22, 56, 90, 146, 234, 285, 320],\n",
    "                                   wall_values=0.0, \n",
    "                                   wall_thickness=1,\n",
    "                                   img_border_also_collide=True,\n",
    "                                   reflexion_order=2,\n",
    "                                   should_scale_rays=False,\n",
    "                                   should_scale_img=True)\n",
    "\n",
    "ray_img = ips.ray_tracing.draw_rays(rays_, detail_draw=False, \n",
    "                                    output_format=\"single_image\", \n",
    "                                    img_background=img, ray_value=2, ray_thickness=1, \n",
    "                                    img_shape=(256, 256), dtype=float, standard_value=0,\n",
    "                                    should_scale_rays_to_image=False, original_max_width=None, original_max_height=None)\n",
    "ips.img.imshow(ray_img, size=4)"
   ]
  },
  {
   "cell_type": "code",
   "execution_count": null,
   "id": "b7613ec5",
   "metadata": {},
   "outputs": [],
   "source": [
    "# FIXME -> Scaling problem here"
   ]
  },
  {
   "cell_type": "code",
   "execution_count": null,
   "id": "e6d23e48",
   "metadata": {},
   "outputs": [],
   "source": [
    "rays_ = ips.ray_tracing.trace_beams(rel_position=[0.5, 0.5], \n",
    "                                   img_src=img_src, \n",
    "                                   directions_in_degree=[22, 56, 90, 146, 234, 285, 320],\n",
    "                                   wall_values=0.0, \n",
    "                                   wall_thickness=1,\n",
    "                                   img_border_also_collide=True,\n",
    "                                   reflexion_order=2,\n",
    "                                   should_scale_rays=True,\n",
    "                                   should_scale_img=True)\n",
    "\n",
    "ray_img = ips.ray_tracing.draw_rays(rays_, detail_draw=False, \n",
    "                                    output_format=\"single_image\", \n",
    "                                    img_background=img, ray_value=2, ray_thickness=1, \n",
    "                                    img_shape=(256, 256), dtype=float, standard_value=0,\n",
    "                                    should_scale_rays_to_image=True, original_max_width=None, original_max_height=None)\n",
    "ips.img.imshow(ray_img, size=4)"
   ]
  },
  {
   "cell_type": "markdown",
   "id": "c7b5de52",
   "metadata": {},
   "source": [
    "---\n",
    "### Draw Rays\n",
    "\n",
    "Export Rays into images. Here we cover some of the major features.\n",
    "\n",
    "- Custom value of ray-traces\n",
    "- Thickness of ray-traces\n",
    "- Drawing on empty image or an existing image\n",
    "    - Given image-shape, dtype and fill-value (standard-value)\n",
    "- Scaling rays to the given image\n",
    "- Different Format Types\n",
    "    - One Image\n",
    "    - Multiple Images (each ray on one image)\n",
    "    - One Image and each channel is one ray"
   ]
  },
  {
   "cell_type": "markdown",
   "id": "b4c304d0",
   "metadata": {},
   "source": [
    "**Basics**: Use the `ips.ray_tracing.draw_rays` to draw rays or use the `ips.ray_tracing.trace_and_draw_rays` to calculate the rays and draw/export these as an image and this for multiple images. \n",
    "\n",
    "Via the `ray_value` you set the pixel value which the rays should get in the image. The `ray_thickness` defines how thick the ray lines/points should get plottet /drawn on the image."
   ]
  },
  {
   "cell_type": "code",
   "execution_count": null,
   "id": "a8ad691c",
   "metadata": {},
   "outputs": [],
   "source": [
    "ray_img = ips.ray_tracing.draw_rays(rays, detail_draw=False, \n",
    "                                    output_format=\"single_image\", \n",
    "                                    img_background=None, ray_value=2, ray_thickness=1, \n",
    "                                    img_shape=(256, 256), dtype=float, standard_value=0,\n",
    "                                    should_scale_rays_to_image=True, original_max_width=None, original_max_height=None)\n",
    "ips.img.imshow(ray_img, size=4)"
   ]
  },
  {
   "cell_type": "code",
   "execution_count": null,
   "id": "a6b3ee6a",
   "metadata": {},
   "outputs": [],
   "source": [
    "ray_img = ips.ray_tracing.draw_rays(rays, detail_draw=False, \n",
    "                                    output_format=\"single_image\", \n",
    "                                    img_background=None, ray_value=2, ray_thickness=1, \n",
    "                                    img_shape=(256, 256), dtype=float, standard_value=0,\n",
    "                                    should_scale_rays_to_image=True)\n",
    "ips.img.imshow(ray_img, size=4)"
   ]
  },
  {
   "cell_type": "code",
   "execution_count": null,
   "id": "9c9ddb27",
   "metadata": {},
   "outputs": [],
   "source": [
    "ray_img = ips.ray_tracing.draw_rays(rays, detail_draw=False, \n",
    "                                    output_format=\"single_image\", \n",
    "                                    img_background=None, ray_value=2, ray_thickness=4, \n",
    "                                    img_shape=(256, 256), dtype=float, standard_value=0,\n",
    "                                    should_scale_rays_to_image=True)\n",
    "ips.img.imshow(ray_img, size=4)"
   ]
  },
  {
   "cell_type": "code",
   "execution_count": null,
   "id": "470e97fa",
   "metadata": {},
   "outputs": [],
   "source": [
    "ray_img = ips.ray_tracing.draw_rays(rays, detail_draw=False, \n",
    "                                    output_format=\"single_image\", \n",
    "                                    img_background=None, ray_value=24, ray_thickness=1, \n",
    "                                    img_shape=(256, 256), dtype=float, standard_value=0,\n",
    "                                    should_scale_rays_to_image=True)\n",
    "ips.img.show_image_with_line_and_profile(imgs=[ray_img], axis='column', index=None, titles=None, figsize=(11, 8));"
   ]
  },
  {
   "cell_type": "markdown",
   "id": "d0ac5670",
   "metadata": {},
   "source": [
    "**Detail Levels**: There are 2 levels of detail. \n",
    "1. One is exactly the way the rays got calculated pixel by pixel\n",
    "2. The other is an approximation where lines are drawn from only he star tand the end point of each beam\n",
    "\n",
    "See that here:"
   ]
  },
  {
   "cell_type": "code",
   "execution_count": null,
   "id": "c89d9f9b",
   "metadata": {},
   "outputs": [],
   "source": [
    "ray_img = ips.ray_tracing.draw_rays(rays, detail_draw=True, \n",
    "                                    output_format=\"single_image\", \n",
    "                                    img_background=None, ray_value=2, ray_thickness=1, \n",
    "                                    img_shape=(256, 256), dtype=float, standard_value=0,\n",
    "                                    should_scale_rays_to_image=True)\n",
    "print(ray_img.shape)\n",
    "ips.img.imshow(ray_img, size=5)"
   ]
  },
  {
   "cell_type": "code",
   "execution_count": null,
   "id": "1cd8e8fd",
   "metadata": {},
   "outputs": [],
   "source": [
    "ray_img = ips.ray_tracing.draw_rays(rays, detail_draw=False, \n",
    "                                    output_format=\"single_image\", \n",
    "                                    img_background=None, ray_value=2, ray_thickness=1, \n",
    "                                    img_shape=(256, 256), dtype=float, standard_value=0,\n",
    "                                    should_scale_rays_to_image=True)\n",
    "print(ray_img.shape)\n",
    "ips.img.imshow(ray_img, size=5)"
   ]
  },
  {
   "cell_type": "markdown",
   "id": "23632a89",
   "metadata": {},
   "source": [
    "**Background Image**: For each format you can choose if you want an empty image or an background image. For the empty image you can use the `image_shape`, `dtype` and the `standard_value` to set the base settings for your image."
   ]
  },
  {
   "cell_type": "code",
   "execution_count": null,
   "id": "f98e86f8",
   "metadata": {},
   "outputs": [],
   "source": [
    "ray_img = ips.ray_tracing.draw_rays(rays, detail_draw=True, \n",
    "                                    output_format=\"single_image\", \n",
    "                                    img_background=None, ray_value=0, ray_thickness=1, \n",
    "                                    img_shape=(256, 256), dtype=float, standard_value=255,\n",
    "                                    should_scale_rays_to_image=True)\n",
    "print(ray_img.shape)\n",
    "ips.img.imshow(ray_img, size=5)"
   ]
  },
  {
   "cell_type": "code",
   "execution_count": null,
   "id": "f36f6bc5",
   "metadata": {},
   "outputs": [],
   "source": [
    "ray_img = ips.ray_tracing.draw_rays(rays, detail_draw=False, \n",
    "                                    output_format=\"single_image\", \n",
    "                                    img_background=img, ray_value=2, ray_thickness=1, \n",
    "                                    img_shape=(256, 256), dtype=float, standard_value=0,\n",
    "                                    should_scale_rays_to_image=True)\n",
    "print(ray_img.shape)\n",
    "ips.img.imshow(ray_img, size=5)"
   ]
  },
  {
   "cell_type": "markdown",
   "id": "75ca4922",
   "metadata": {},
   "source": [
    "This comes also useful with the auto scaling with the image:"
   ]
  },
  {
   "cell_type": "code",
   "execution_count": null,
   "id": "f639e081",
   "metadata": {},
   "outputs": [],
   "source": [
    "ray_img = ips.ray_tracing.draw_rays(rays, detail_draw=True, \n",
    "                                    output_format=\"single_image\", \n",
    "                                    img_background=None, ray_value=0, ray_thickness=1, \n",
    "                                    img_shape=(512, 512), dtype=float, standard_value=255,\n",
    "                                    should_scale_rays_to_image=True)\n",
    "print(ray_img.shape)\n",
    "ips.img.imshow(ray_img, size=4, axis_off=False)"
   ]
  },
  {
   "cell_type": "markdown",
   "id": "aef0f5ad",
   "metadata": {},
   "source": [
    "**Formats:**"
   ]
  },
  {
   "cell_type": "code",
   "execution_count": null,
   "id": "135ae64f",
   "metadata": {},
   "outputs": [],
   "source": []
  },
  {
   "cell_type": "markdown",
   "id": "11335341",
   "metadata": {},
   "source": [
    "**Scaling:**"
   ]
  },
  {
   "cell_type": "code",
   "execution_count": null,
   "id": "13ac9dcd",
   "metadata": {},
   "outputs": [],
   "source": []
  },
  {
   "cell_type": "markdown",
   "id": "ddd5ed78",
   "metadata": {},
   "source": [
    "---"
   ]
  },
  {
   "cell_type": "code",
   "execution_count": null,
   "id": "1b4b5432",
   "metadata": {},
   "outputs": [],
   "source": [
    "ray_img = ips.ray_tracing.draw_rays(rays, detail_draw=True,\n",
    "                                    output_format=\"multiple_images\", \n",
    "                                    img_background=None, ray_value=2, ray_thickness=1, \n",
    "                                    img_shape=(256, 256), dtype=float, standard_value=0,\n",
    "                                    should_scale_rays_to_image=True)\n",
    "print(len(ray_img))\n",
    "print(ray_img[0].shape)\n",
    "ips.img.advanced_imshow(random.sample(ray_img, min(len(ray_img), 5)), title=None, image_width=5, axis=False,\n",
    "                        color_space=\"RGB\", cmap=None, cols=min(len(ray_img), 5), save_to=None,\n",
    "                        hspace=0.2, wspace=0.2,\n",
    "                        use_original_style=False, invert=False)"
   ]
  },
  {
   "cell_type": "code",
   "execution_count": null,
   "id": "577c20f2",
   "metadata": {},
   "outputs": [],
   "source": [
    "ray_img = ips.ray_tracing.draw_rays(rays, detail_draw=True,\n",
    "                                    output_format=\"multiple_images\", \n",
    "                                    img_background=img, ray_value=2, ray_thickness=1, \n",
    "                                    img_shape=(256, 256), dtype=float, standard_value=0,\n",
    "                                    should_scale_rays_to_image=True)\n",
    "print(len(ray_img))\n",
    "print(ray_img[0].shape)\n",
    "ips.img.advanced_imshow(random.sample(ray_img, min(len(ray_img), 5)), title=None, image_width=10, axis=False,\n",
    "                        color_space=\"RGB\", cmap=None, cols=min(len(ray_img), 5), save_to=None,\n",
    "                        hspace=0.2, wspace=0.2,\n",
    "                        use_original_style=False, invert=False)"
   ]
  },
  {
   "cell_type": "code",
   "execution_count": null,
   "id": "72ac4182",
   "metadata": {},
   "outputs": [],
   "source": [
    "ray_img = ips.ray_tracing.draw_rays(rays, detail_draw=True,\n",
    "                                    output_format=\"channels\", \n",
    "                                    img_background=None, ray_value=2, ray_thickness=1, \n",
    "                                    img_shape=(256, 256), dtype=float, standard_value=0,\n",
    "                                    should_scale_rays_to_image=True)\n",
    "print(ray_img.shape)\n",
    "ips.img.imshow(ray_img[..., 0], size=5)"
   ]
  },
  {
   "cell_type": "code",
   "execution_count": null,
   "id": "c9466e9e",
   "metadata": {},
   "outputs": [],
   "source": [
    "ray_img = ips.ray_tracing.draw_rays(rays, detail_draw=True,\n",
    "                                    output_format=\"channels\", \n",
    "                                    img_background=img, ray_value=2, ray_thickness=1, \n",
    "                                    img_shape=(256, 256), dtype=float, standard_value=0,\n",
    "                                    should_scale_rays_to_image=True)\n",
    "print(ray_img.shape)\n",
    "ips.img.imshow(ray_img[..., 0], size=5)"
   ]
  },
  {
   "cell_type": "markdown",
   "id": "3fe14bc7",
   "metadata": {},
   "source": [
    "---\n",
    "### Everything in one method"
   ]
  },
  {
   "cell_type": "code",
   "execution_count": null,
   "id": "2f491aa3",
   "metadata": {},
   "outputs": [],
   "source": []
  },
  {
   "cell_type": "markdown",
   "id": "3523b906",
   "metadata": {},
   "source": [
    "---\n",
    "### Comparison with Physgen Reflections"
   ]
  },
  {
   "cell_type": "code",
   "execution_count": null,
   "id": "a26c6cde",
   "metadata": {},
   "outputs": [],
   "source": []
  },
  {
   "cell_type": "markdown",
   "id": "b328c8cc",
   "metadata": {},
   "source": [
    "---"
   ]
  }
 ],
 "metadata": {
  "kernelspec": {
   "display_name": "img-phy-sim",
   "language": "python",
   "name": "python3"
  },
  "language_info": {
   "codemirror_mode": {
    "name": "ipython",
    "version": 3
   },
   "file_extension": ".py",
   "mimetype": "text/x-python",
   "name": "python",
   "nbconvert_exporter": "python",
   "pygments_lexer": "ipython3",
   "version": "3.13.7"
  }
 },
 "nbformat": 4,
 "nbformat_minor": 5
}
