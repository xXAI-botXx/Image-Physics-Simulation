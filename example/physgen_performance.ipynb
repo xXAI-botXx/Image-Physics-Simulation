{
 "cells": [
  {
   "cell_type": "markdown",
   "id": "e4e035ab",
   "metadata": {},
   "source": [
    "### Performance of IPS's Ray-Tracing\n",
    "\n",
    "Standard Settings are:\n",
    "- test_amount=50\n",
    "- step_size=10\n",
    "- reflexion_order=3\n",
    "- ray_scaling=True\n",
    "- detail_draw=False\n",
    "- output_format=\"channels\"\n",
    "\n",
    "Investigated Factors:\n",
    "- `Ray Amount` (step_size)\n",
    "- `Scaling of Rays` (ray_scaling)\n",
    "- `Reflexion Order` (reflexion_order)\n",
    "- `Detail Drawing of Rays` (detail_draw)\n",
    "\n",
    "Helper:"
   ]
  },
  {
   "cell_type": "code",
   "execution_count": 1,
   "id": "34b9b27d",
   "metadata": {},
   "outputs": [
    {
     "name": "stderr",
     "output_type": "stream",
     "text": [
      "d:\\Programme\\Anaconda\\envs\\img-phy-sim\\Lib\\site-packages\\pygame\\pkgdata.py:25: UserWarning: pkg_resources is deprecated as an API. See https://setuptools.pypa.io/en/latest/pkg_resources.html. The pkg_resources package is slated for removal as early as 2025-11-30. Refrain from using this package or pin to Setuptools<81.\n",
      "  from pkg_resources import resource_stream, resource_exists\n"
     ]
    }
   ],
   "source": [
    "import sys\n",
    "sys.path += [\"..\"] # os.path.abspath(\"../img-phy-sim\")\n",
    "\n",
    "import img_phy_sim as ips\n",
    "from physgen_dataset import get_image  # local module\n",
    "\n",
    "import time\n",
    "\n",
    "import numpy as np"
   ]
  },
  {
   "cell_type": "code",
   "execution_count": 8,
   "id": "061622bd",
   "metadata": {},
   "outputs": [],
   "source": [
    "def get_random_image(name=None):\n",
    "    # get image\n",
    "    input_ = get_image(mode='train', variation=\"sound_reflection\", input_type=\"osm\", output_type=\"standard\", \n",
    "                shuffle=True, return_output=False, as_numpy_array=True)\n",
    "\n",
    "    if name is None:\n",
    "        input_src = \"./cache_img_1_input.png\"\n",
    "    else:\n",
    "        input_src = name\n",
    "    ips.img.save(input_, input_src, should_scale=False)\n",
    "\n",
    "    return input_src\n",
    "\n",
    "def ray_performance_test(imgs, step_size, reflexion_order, ray_scaling, detail_draw, output_format):\n",
    "    test_amount = len(imgs)\n",
    "\n",
    "    ray_compute_times = []\n",
    "    ray_draw_times = []\n",
    "    times = []\n",
    "\n",
    "    for input_src in imgs:\n",
    "        # input_src = get_random_image()\n",
    "        input_ = ips.img.open(src=input_src, should_scale=False, should_print=False)\n",
    "        \n",
    "        start = time.time()\n",
    "        # calc rays\n",
    "        rays = ips.ray_tracing.trace_beams(rel_position=[0.5, 0.5], \n",
    "                                        img_src=input_src, \n",
    "                                        directions_in_degree=ips.ray_tracing.get_linear_degree_range(step_size=step_size),\n",
    "                                        wall_values=None, \n",
    "                                        wall_thickness=0,\n",
    "                                        img_border_also_collide=False,\n",
    "                                        reflexion_order=reflexion_order,\n",
    "                                        should_scale_rays=ray_scaling,\n",
    "                                        should_scale_img=False)\n",
    "        ray_compute_time = time.time() - start\n",
    "\n",
    "        # show rays on input\n",
    "        start = time.time()\n",
    "        ray_img = ips.ray_tracing.draw_rays(rays, detail_draw=detail_draw, \n",
    "                                            output_format=output_format, \n",
    "                                            img_background=input_, ray_value=2, ray_thickness=1, \n",
    "                                            img_shape=(256, 256), dtype=float, standard_value=0,\n",
    "                                            should_scale_rays_to_image=ray_scaling, original_max_width=None, original_max_height=None,\n",
    "                                            show_only_reflections=True)\n",
    "        ray_draw_time = time.time() - start\n",
    "\n",
    "        ray_compute_times += [ray_compute_time]\n",
    "        ray_draw_times += [ray_draw_time]\n",
    "        times += [ray_draw_time+ray_compute_time]\n",
    "\n",
    "    avg_time = np.mean(times)\n",
    "    median_time = np.median(times)\n",
    "    var_time = np.var(times)\n",
    "\n",
    "    avg_compute_time = np.mean(ray_compute_times)\n",
    "    median_compute_time = np.median(ray_compute_times)\n",
    "    var_compute_time = np.var(ray_compute_times)\n",
    "\n",
    "    avg_draw_time = np.mean(ray_draw_times)\n",
    "    median_draw_time = np.median(ray_draw_times)\n",
    "    var_draw_time = np.var(ray_draw_times)\n",
    "\n",
    "    print_str = f\"\\n{'-'*2}\\nPerformance Result with {test_amount} Tests\\n\"\n",
    "    print_str += f\"Total Time:\\n    Mean = {avg_time}\\n    Median = {median_time}\\n    Variance = {var_time}\"\n",
    "    print_str += f\"\\n\\nRay Compute Time:\\n    Mean = {avg_compute_time}\\n    Median = {median_compute_time}\\n    Variance = {var_compute_time}\"\n",
    "    print_str += f\"\\n\\nRay Draw Time:\\n    Mean = {avg_draw_time}\\n    Median = {median_draw_time}\\n    Variance = {var_draw_time}\"\n",
    "\n",
    "    print(print_str)\n",
    "\n",
    "    return [\n",
    "        avg_time,\n",
    "        median_time,\n",
    "        var_time,\n",
    "        avg_compute_time,\n",
    "        median_compute_time,\n",
    "        var_compute_time,\n",
    "        avg_draw_time,\n",
    "        median_draw_time,\n",
    "        var_draw_time,\n",
    "    ]\n",
    "\n",
    "def compare_results(results):\n",
    "    results = np.array(results)\n",
    "    num_experiments = len(results)\n",
    "\n",
    "    metrics = [\n",
    "        \"avg_time\", \"median_time\", \"var_time\",\n",
    "        \"avg_compute_time\", \"median_compute_time\", \"var_compute_time\",\n",
    "        \"avg_draw_time\", \"median_draw_time\", \"var_draw_time\"\n",
    "    ]\n",
    "\n",
    "    summary = f\"\\nNumber of experiments: {num_experiments}\\n\"\n",
    "\n",
    "    # Analyze each metric\n",
    "    for i, name in enumerate(metrics):\n",
    "        values = results[:, i]\n",
    "\n",
    "        mean_val = np.mean(values)\n",
    "        std_val = np.std(values)\n",
    "        min_val = np.min(values)\n",
    "        max_val = np.max(values)\n",
    "        rel_change = (max_val - min_val) / mean_val * 100 if mean_val != 0 else 0\n",
    "\n",
    "        summary += f\"\\n\\\n",
    "            {name:20s}: mean={mean_val:.4f}, std={std_val:.4f}, min={min_val:.4f}, max={max_val:.4f}, rel_change={rel_change:.2f}%\"\n",
    "\n",
    "    # Check overall trend in avg_time\n",
    "    avg_times = results[:, 0]\n",
    "    trend = np.polyfit(np.arange(num_experiments), avg_times, 1)[0]\n",
    "    if trend > 0:\n",
    "        trend_desc = \"increasing\"\n",
    "    elif trend < 0:\n",
    "        trend_desc = \"decreasing\"\n",
    "    else:\n",
    "        trend_desc = \"stable\"\n",
    "\n",
    "    summary += f\"\\n\\nOverall trend in avg_time: {trend_desc} ({trend:.4e} change per experiment)\"\n",
    "    summary += f\"\\nConclusion: Performance changes {('significantly' if np.std(avg_times) / np.mean(avg_times) > 0.1 else 'slightly')} across experiments.\"\n",
    "\n",
    "    print(summary)\n",
    "\n",
    "    return summary"
   ]
  },
  {
   "cell_type": "code",
   "execution_count": 3,
   "id": "a07ef6be",
   "metadata": {},
   "outputs": [
    {
     "name": "stdout",
     "output_type": "stream",
     "text": [
      "PhysGen (sound_reflection) Dataset for train got created\n",
      "PhysGen (sound_reflection) Dataset for train got created\n",
      "PhysGen (sound_reflection) Dataset for train got created\n",
      "PhysGen (sound_reflection) Dataset for train got created\n",
      "PhysGen (sound_reflection) Dataset for train got created\n",
      "PhysGen (sound_reflection) Dataset for train got created\n",
      "PhysGen (sound_reflection) Dataset for train got created\n",
      "PhysGen (sound_reflection) Dataset for train got created\n",
      "PhysGen (sound_reflection) Dataset for train got created\n",
      "PhysGen (sound_reflection) Dataset for train got created\n",
      "PhysGen (sound_reflection) Dataset for train got created\n",
      "PhysGen (sound_reflection) Dataset for train got created\n",
      "PhysGen (sound_reflection) Dataset for train got created\n",
      "PhysGen (sound_reflection) Dataset for train got created\n",
      "PhysGen (sound_reflection) Dataset for train got created\n",
      "PhysGen (sound_reflection) Dataset for train got created\n",
      "PhysGen (sound_reflection) Dataset for train got created\n",
      "PhysGen (sound_reflection) Dataset for train got created\n",
      "PhysGen (sound_reflection) Dataset for train got created\n",
      "PhysGen (sound_reflection) Dataset for train got created\n",
      "PhysGen (sound_reflection) Dataset for train got created\n",
      "PhysGen (sound_reflection) Dataset for train got created\n",
      "PhysGen (sound_reflection) Dataset for train got created\n",
      "PhysGen (sound_reflection) Dataset for train got created\n",
      "PhysGen (sound_reflection) Dataset for train got created\n",
      "PhysGen (sound_reflection) Dataset for train got created\n",
      "PhysGen (sound_reflection) Dataset for train got created\n",
      "PhysGen (sound_reflection) Dataset for train got created\n",
      "PhysGen (sound_reflection) Dataset for train got created\n",
      "PhysGen (sound_reflection) Dataset for train got created\n",
      "PhysGen (sound_reflection) Dataset for train got created\n",
      "PhysGen (sound_reflection) Dataset for train got created\n",
      "PhysGen (sound_reflection) Dataset for train got created\n",
      "PhysGen (sound_reflection) Dataset for train got created\n",
      "PhysGen (sound_reflection) Dataset for train got created\n",
      "PhysGen (sound_reflection) Dataset for train got created\n",
      "PhysGen (sound_reflection) Dataset for train got created\n",
      "PhysGen (sound_reflection) Dataset for train got created\n",
      "PhysGen (sound_reflection) Dataset for train got created\n",
      "PhysGen (sound_reflection) Dataset for train got created\n",
      "PhysGen (sound_reflection) Dataset for train got created\n",
      "PhysGen (sound_reflection) Dataset for train got created\n",
      "PhysGen (sound_reflection) Dataset for train got created\n",
      "PhysGen (sound_reflection) Dataset for train got created\n",
      "PhysGen (sound_reflection) Dataset for train got created\n",
      "PhysGen (sound_reflection) Dataset for train got created\n",
      "PhysGen (sound_reflection) Dataset for train got created\n",
      "PhysGen (sound_reflection) Dataset for train got created\n",
      "PhysGen (sound_reflection) Dataset for train got created\n",
      "PhysGen (sound_reflection) Dataset for train got created\n"
     ]
    }
   ],
   "source": [
    "test_amount = 50\n",
    "imgs = []\n",
    "for i in range(test_amount):\n",
    "    name = f\"./cache_img_{i+1}.png\"\n",
    "    get_random_image(name=name)\n",
    "    imgs += [name]"
   ]
  },
  {
   "cell_type": "markdown",
   "id": "262443f9",
   "metadata": {},
   "source": [
    "**Experiment 1: Ray Amount**"
   ]
  },
  {
   "cell_type": "code",
   "execution_count": 9,
   "id": "0cd821a5",
   "metadata": {},
   "outputs": [
    {
     "name": "stderr",
     "output_type": "stream",
     "text": [
      "d:\\Programme\\Anaconda\\envs\\img-phy-sim\\Lib\\site-packages\\numpy\\_core\\numeric.py:353: RuntimeWarning: invalid value encountered in cast\n",
      "  multiarray.copyto(a, fill_value, casting='unsafe')\n"
     ]
    },
    {
     "name": "stdout",
     "output_type": "stream",
     "text": [
      "\n",
      "--\n",
      "Performance Result with 50 Tests\n",
      "Total Time:\n",
      "    Mean = 0.5743922901153564\n",
      "    Median = 0.5546430349349976\n",
      "    Variance = 0.007568072940822822\n",
      "\n",
      "Ray Compute Time:\n",
      "    Mean = 0.5529049491882324\n",
      "    Median = 0.5345596075057983\n",
      "    Variance = 0.007408498095403866\n",
      "\n",
      "Ray Draw Time:\n",
      "    Mean = 0.021487340927124024\n",
      "    Median = 0.020676851272583008\n",
      "    Variance = 3.813566111512045e-06\n"
     ]
    }
   ],
   "source": [
    "results = []\n",
    "results += [ray_performance_test(imgs=imgs, \n",
    "                                step_size=10, \n",
    "                                reflexion_order=3, \n",
    "                                ray_scaling=True, \n",
    "                                detail_draw=False, \n",
    "                                output_format=\"channels\")]"
   ]
  },
  {
   "cell_type": "code",
   "execution_count": 10,
   "id": "59987d6a",
   "metadata": {},
   "outputs": [
    {
     "name": "stdout",
     "output_type": "stream",
     "text": [
      "\n",
      "--\n",
      "Performance Result with 50 Tests\n",
      "Total Time:\n",
      "    Mean = 1.1274364471435547\n",
      "    Median = 1.103517770767212\n",
      "    Variance = 0.02612410859151851\n",
      "\n",
      "Ray Compute Time:\n",
      "    Mean = 1.080513834953308\n",
      "    Median = 1.0601667165756226\n",
      "    Variance = 0.024990209654716294\n",
      "\n",
      "Ray Draw Time:\n",
      "    Mean = 0.046922612190246585\n",
      "    Median = 0.04627180099487305\n",
      "    Variance = 3.059765149885152e-05\n"
     ]
    }
   ],
   "source": [
    "results += [ray_performance_test(imgs=imgs, \n",
    "                                step_size=5, \n",
    "                                reflexion_order=3, \n",
    "                                ray_scaling=True, \n",
    "                                detail_draw=False, \n",
    "                                output_format=\"channels\")]"
   ]
  },
  {
   "cell_type": "code",
   "execution_count": 11,
   "id": "68a49c98",
   "metadata": {},
   "outputs": [
    {
     "name": "stdout",
     "output_type": "stream",
     "text": [
      "\n",
      "--\n",
      "Performance Result with 50 Tests\n",
      "Total Time:\n",
      "    Mean = 5.531743464469909\n",
      "    Median = 5.293457984924316\n",
      "    Variance = 0.6109478504450768\n",
      "\n",
      "Ray Compute Time:\n",
      "    Mean = 5.312908511161805\n",
      "    Median = 5.0782389640808105\n",
      "    Variance = 0.580682634727182\n",
      "\n",
      "Ray Draw Time:\n",
      "    Mean = 0.21883495330810546\n",
      "    Median = 0.21196365356445312\n",
      "    Variance = 0.0004697135053844249\n"
     ]
    }
   ],
   "source": [
    "results += [ray_performance_test(imgs=imgs, \n",
    "                                step_size=1, \n",
    "                                reflexion_order=3, \n",
    "                                ray_scaling=True, \n",
    "                                detail_draw=False, \n",
    "                                output_format=\"channels\")]"
   ]
  },
  {
   "cell_type": "code",
   "execution_count": 13,
   "id": "1dc32e2c",
   "metadata": {},
   "outputs": [
    {
     "name": "stdout",
     "output_type": "stream",
     "text": [
      "\n",
      "--\n",
      "Performance Result with 50 Tests\n",
      "Total Time:\n",
      "    Mean = 56.791828088760376\n",
      "    Median = 54.779919385910034\n",
      "    Variance = 67.8258524735977\n",
      "\n",
      "Ray Compute Time:\n",
      "    Mean = 53.481501364707945\n",
      "    Median = 51.57227301597595\n",
      "    Variance = 58.48254623186749\n",
      "\n",
      "Ray Draw Time:\n",
      "    Mean = 3.310326724052429\n",
      "    Median = 3.07047700881958\n",
      "    Variance = 0.6096038808240902\n"
     ]
    }
   ],
   "source": [
    "results += [ray_performance_test(imgs=imgs, \n",
    "                                step_size=0.1, \n",
    "                                reflexion_order=3, \n",
    "                                ray_scaling=True, \n",
    "                                detail_draw=False, \n",
    "                                output_format=\"channels\")]"
   ]
  },
  {
   "cell_type": "code",
   "execution_count": 14,
   "id": "3a334766",
   "metadata": {},
   "outputs": [
    {
     "name": "stdout",
     "output_type": "stream",
     "text": [
      "\n",
      "Number of experiments: 4\n",
      "\n",
      "            avg_time            : mean=16.0064, std=23.6257, min=0.5744, max=56.7918, rel_change=351.22%\n",
      "            median_time         : mean=15.4329, std=22.7908, min=0.5546, max=54.7799, rel_change=351.36%\n",
      "            var_time            : mean=17.1176, std=29.2774, min=0.0076, max=67.8259, rel_change=396.19%\n",
      "            avg_compute_time    : mean=15.1070, std=22.2322, min=0.5529, max=53.4815, rel_change=350.36%\n",
      "            median_compute_time : mean=14.5613, std=21.4404, min=0.5346, max=51.5723, rel_change=350.50%\n",
      "            var_compute_time    : mean=14.7739, std=25.2362, min=0.0074, max=58.4825, rel_change=395.80%\n",
      "            avg_draw_time       : mean=0.8994, std=1.3940, min=0.0215, max=3.3103, rel_change=365.67%\n",
      "            median_draw_time    : mean=0.8373, std=1.2914, min=0.0207, max=3.0705, rel_change=364.22%\n",
      "            var_draw_time       : mean=0.1525, std=0.2639, min=0.0000, max=0.6096, rel_change=399.67%\n",
      "\n",
      "Overall trend in avg_time: increasing (1.7306e+01 change per experiment)\n",
      "Conclusion: Performance changes significantly across experiments.\n"
     ]
    }
   ],
   "source": [
    "compare_results(results);"
   ]
  },
  {
   "cell_type": "markdown",
   "id": "e71d824e",
   "metadata": {},
   "source": [
    "**Experiment 2: Ray Scaling**"
   ]
  },
  {
   "cell_type": "code",
   "execution_count": 15,
   "id": "8e6e6545",
   "metadata": {},
   "outputs": [
    {
     "name": "stdout",
     "output_type": "stream",
     "text": [
      "\n",
      "--\n",
      "Performance Result with 50 Tests\n",
      "Total Time:\n",
      "    Mean = 0.5822781038284301\n",
      "    Median = 0.5637214183807373\n",
      "    Variance = 0.007754208688502081\n",
      "\n",
      "Ray Compute Time:\n",
      "    Mean = 0.5605262660980225\n",
      "    Median = 0.5423493385314941\n",
      "    Variance = 0.00754003197469765\n",
      "\n",
      "Ray Draw Time:\n",
      "    Mean = 0.021751837730407717\n",
      "    Median = 0.02132093906402588\n",
      "    Variance = 4.26059041658391e-06\n"
     ]
    }
   ],
   "source": [
    "results = []\n",
    "results += [ray_performance_test(imgs=imgs, \n",
    "                                step_size=10, \n",
    "                                reflexion_order=3, \n",
    "                                ray_scaling=True, \n",
    "                                detail_draw=False, \n",
    "                                output_format=\"channels\")]"
   ]
  },
  {
   "cell_type": "code",
   "execution_count": 16,
   "id": "e0717a86",
   "metadata": {},
   "outputs": [
    {
     "name": "stdout",
     "output_type": "stream",
     "text": [
      "\n",
      "--\n",
      "Performance Result with 50 Tests\n",
      "Total Time:\n",
      "    Mean = 0.5665883159637451\n",
      "    Median = 0.5478074550628662\n",
      "    Variance = 0.007766807581710417\n",
      "\n",
      "Ray Compute Time:\n",
      "    Mean = 0.5557410860061646\n",
      "    Median = 0.5372400283813477\n",
      "    Variance = 0.007549793427198007\n",
      "\n",
      "Ray Draw Time:\n",
      "    Mean = 0.010847229957580567\n",
      "    Median = 0.010637760162353516\n",
      "    Variance = 2.102514868261096e-06\n"
     ]
    }
   ],
   "source": [
    "results += [ray_performance_test(imgs=imgs, \n",
    "                                step_size=10, \n",
    "                                reflexion_order=3, \n",
    "                                ray_scaling=False, \n",
    "                                detail_draw=False, \n",
    "                                output_format=\"channels\")]"
   ]
  },
  {
   "cell_type": "code",
   "execution_count": 17,
   "id": "ddd8bb97",
   "metadata": {},
   "outputs": [
    {
     "name": "stdout",
     "output_type": "stream",
     "text": [
      "\n",
      "Number of experiments: 2\n",
      "\n",
      "            avg_time            : mean=0.5744, std=0.0078, min=0.5666, max=0.5823, rel_change=2.73%\n",
      "            median_time         : mean=0.5558, std=0.0080, min=0.5478, max=0.5637, rel_change=2.86%\n",
      "            var_time            : mean=0.0078, std=0.0000, min=0.0078, max=0.0078, rel_change=0.16%\n",
      "            avg_compute_time    : mean=0.5581, std=0.0024, min=0.5557, max=0.5605, rel_change=0.86%\n",
      "            median_compute_time : mean=0.5398, std=0.0026, min=0.5372, max=0.5423, rel_change=0.95%\n",
      "            var_compute_time    : mean=0.0075, std=0.0000, min=0.0075, max=0.0075, rel_change=0.13%\n",
      "            avg_draw_time       : mean=0.0163, std=0.0055, min=0.0108, max=0.0218, rel_change=66.90%\n",
      "            median_draw_time    : mean=0.0160, std=0.0053, min=0.0106, max=0.0213, rel_change=66.86%\n",
      "            var_draw_time       : mean=0.0000, std=0.0000, min=0.0000, max=0.0000, rel_change=67.83%\n",
      "\n",
      "Overall trend in avg_time: decreasing (-1.5690e-02 change per experiment)\n",
      "Conclusion: Performance changes slightly across experiments.\n"
     ]
    }
   ],
   "source": [
    "compare_results(results);"
   ]
  },
  {
   "cell_type": "markdown",
   "id": "52d6d998",
   "metadata": {},
   "source": [
    "**Experiment 3: Reflexion Order**"
   ]
  },
  {
   "cell_type": "code",
   "execution_count": 18,
   "id": "3c3f57d8",
   "metadata": {},
   "outputs": [
    {
     "name": "stdout",
     "output_type": "stream",
     "text": [
      "\n",
      "--\n",
      "Performance Result with 50 Tests\n",
      "Total Time:\n",
      "    Mean = 0.3231235551834106\n",
      "    Median = 0.32531797885894775\n",
      "    Variance = 0.00024351806260958713\n",
      "\n",
      "Ray Compute Time:\n",
      "    Mean = 0.30882523536682127\n",
      "    Median = 0.3108137845993042\n",
      "    Variance = 0.00020978370210477808\n",
      "\n",
      "Ray Draw Time:\n",
      "    Mean = 0.014298319816589355\n",
      "    Median = 0.014383316040039062\n",
      "    Variance = 1.616508346273804e-06\n"
     ]
    }
   ],
   "source": [
    "results = []\n",
    "results += [ray_performance_test(imgs=imgs, \n",
    "                                step_size=10, \n",
    "                                reflexion_order=0, \n",
    "                                ray_scaling=True, \n",
    "                                detail_draw=False, \n",
    "                                output_format=\"channels\")]"
   ]
  },
  {
   "cell_type": "code",
   "execution_count": 19,
   "id": "171dc6f4",
   "metadata": {},
   "outputs": [
    {
     "name": "stdout",
     "output_type": "stream",
     "text": [
      "\n",
      "--\n",
      "Performance Result with 50 Tests\n",
      "Total Time:\n",
      "    Mean = 0.4432172107696533\n",
      "    Median = 0.4405524730682373\n",
      "    Variance = 0.0010647981035345766\n",
      "\n",
      "Ray Compute Time:\n",
      "    Mean = 0.42517398834228515\n",
      "    Median = 0.423565149307251\n",
      "    Variance = 0.0010190022018649872\n",
      "\n",
      "Ray Draw Time:\n",
      "    Mean = 0.018043222427368163\n",
      "    Median = 0.01798272132873535\n",
      "    Variance = 2.138532874050725e-06\n"
     ]
    }
   ],
   "source": [
    "results += [ray_performance_test(imgs=imgs, \n",
    "                                step_size=10, \n",
    "                                reflexion_order=1, \n",
    "                                ray_scaling=True, \n",
    "                                detail_draw=False, \n",
    "                                output_format=\"channels\")]"
   ]
  },
  {
   "cell_type": "code",
   "execution_count": 20,
   "id": "7a131491",
   "metadata": {},
   "outputs": [
    {
     "name": "stdout",
     "output_type": "stream",
     "text": [
      "\n",
      "--\n",
      "Performance Result with 50 Tests\n",
      "Total Time:\n",
      "    Mean = 0.5088210201263428\n",
      "    Median = 0.49715447425842285\n",
      "    Variance = 0.0033666517140294675\n",
      "\n",
      "Ray Compute Time:\n",
      "    Mean = 0.4891412973403931\n",
      "    Median = 0.47770631313323975\n",
      "    Variance = 0.003280755523203993\n",
      "\n",
      "Ray Draw Time:\n",
      "    Mean = 0.01967972278594971\n",
      "    Median = 0.019591569900512695\n",
      "    Variance = 2.340457808281826e-06\n"
     ]
    }
   ],
   "source": [
    "results += [ray_performance_test(imgs=imgs, \n",
    "                                step_size=10, \n",
    "                                reflexion_order=2, \n",
    "                                ray_scaling=True, \n",
    "                                detail_draw=False, \n",
    "                                output_format=\"channels\")]"
   ]
  },
  {
   "cell_type": "code",
   "execution_count": 21,
   "id": "09eda2d0",
   "metadata": {},
   "outputs": [
    {
     "name": "stdout",
     "output_type": "stream",
     "text": [
      "\n",
      "--\n",
      "Performance Result with 50 Tests\n",
      "Total Time:\n",
      "    Mean = 0.6324062347412109\n",
      "    Median = 0.605924129486084\n",
      "    Variance = 0.013463466656060064\n",
      "\n",
      "Ray Compute Time:\n",
      "    Mean = 0.6096883249282837\n",
      "    Median = 0.5840120315551758\n",
      "    Variance = 0.01301173935468953\n",
      "\n",
      "Ray Draw Time:\n",
      "    Mean = 0.022717909812927248\n",
      "    Median = 0.02194070816040039\n",
      "    Variance = 5.36553779213591e-06\n"
     ]
    }
   ],
   "source": [
    "results += [ray_performance_test(imgs=imgs, \n",
    "                                step_size=10, \n",
    "                                reflexion_order=4, \n",
    "                                ray_scaling=True, \n",
    "                                detail_draw=False, \n",
    "                                output_format=\"channels\")]"
   ]
  },
  {
   "cell_type": "code",
   "execution_count": 22,
   "id": "1e72555a",
   "metadata": {},
   "outputs": [
    {
     "name": "stdout",
     "output_type": "stream",
     "text": [
      "\n",
      "--\n",
      "Performance Result with 50 Tests\n",
      "Total Time:\n",
      "    Mean = 1.2316731643676757\n",
      "    Median = 1.1406371593475342\n",
      "    Variance = 0.22054101580450935\n",
      "\n",
      "Ray Compute Time:\n",
      "    Mean = 1.1960439109802246\n",
      "    Median = 1.1085728406906128\n",
      "    Variance = 0.21218104800083792\n",
      "\n",
      "Ray Draw Time:\n",
      "    Mean = 0.035629253387451175\n",
      "    Median = 0.03327476978302002\n",
      "    Variance = 8.594995888151969e-05\n"
     ]
    }
   ],
   "source": [
    "results += [ray_performance_test(imgs=imgs, \n",
    "                                step_size=10, \n",
    "                                reflexion_order=16, \n",
    "                                ray_scaling=True, \n",
    "                                detail_draw=False, \n",
    "                                output_format=\"channels\")]"
   ]
  },
  {
   "cell_type": "code",
   "execution_count": 23,
   "id": "b41f7992",
   "metadata": {},
   "outputs": [
    {
     "name": "stdout",
     "output_type": "stream",
     "text": [
      "\n",
      "--\n",
      "Performance Result with 50 Tests\n",
      "Total Time:\n",
      "    Mean = 2.440870976448059\n",
      "    Median = 2.091689944267273\n",
      "    Variance = 2.5420986134331596\n",
      "\n",
      "Ray Compute Time:\n",
      "    Mean = 2.3797806549072265\n",
      "    Median = 2.040102481842041\n",
      "    Variance = 2.439573844900538\n",
      "\n",
      "Ray Draw Time:\n",
      "    Mean = 0.06109032154083252\n",
      "    Median = 0.05214428901672363\n",
      "    Variance = 0.0010922406721758536\n"
     ]
    }
   ],
   "source": [
    "results += [ray_performance_test(imgs=imgs, \n",
    "                                step_size=10, \n",
    "                                reflexion_order=64, \n",
    "                                ray_scaling=True, \n",
    "                                detail_draw=False, \n",
    "                                output_format=\"channels\")]"
   ]
  },
  {
   "cell_type": "code",
   "execution_count": 24,
   "id": "52544543",
   "metadata": {},
   "outputs": [
    {
     "name": "stdout",
     "output_type": "stream",
     "text": [
      "\n",
      "Number of experiments: 6\n",
      "\n",
      "            avg_time            : mean=0.9300, std=0.7354, min=0.3231, max=2.4409, rel_change=227.71%\n",
      "            median_time         : mean=0.8502, std=0.6128, min=0.3253, max=2.0917, rel_change=207.76%\n",
      "            var_time            : mean=0.4635, std=0.9329, min=0.0002, max=2.5421, rel_change=548.45%\n",
      "            avg_compute_time    : mean=0.9014, std=0.7194, min=0.3088, max=2.3798, rel_change=229.74%\n",
      "            median_compute_time : mean=0.8241, std=0.6002, min=0.3108, max=2.0401, rel_change=209.83%\n",
      "            var_compute_time    : mean=0.4449, std=0.8953, min=0.0002, max=2.4396, rel_change=548.32%\n",
      "            avg_draw_time       : mean=0.0286, std=0.0160, min=0.0143, max=0.0611, rel_change=163.74%\n",
      "            median_draw_time    : mean=0.0266, std=0.0129, min=0.0144, max=0.0521, rel_change=142.21%\n",
      "            var_draw_time       : mean=0.0002, std=0.0004, min=0.0000, max=0.0011, rel_change=550.06%\n",
      "\n",
      "Overall trend in avg_time: increasing (3.7365e-01 change per experiment)\n",
      "Conclusion: Performance changes significantly across experiments.\n"
     ]
    }
   ],
   "source": [
    "compare_results(results);"
   ]
  },
  {
   "cell_type": "markdown",
   "id": "8de1be67",
   "metadata": {},
   "source": [
    "**Experiment 4: Detail Draw**"
   ]
  },
  {
   "cell_type": "code",
   "execution_count": 25,
   "id": "277b5e0b",
   "metadata": {},
   "outputs": [
    {
     "name": "stdout",
     "output_type": "stream",
     "text": [
      "\n",
      "--\n",
      "Performance Result with 50 Tests\n",
      "Total Time:\n",
      "    Mean = 0.5766887855529785\n",
      "    Median = 0.5593326091766357\n",
      "    Variance = 0.007429155155891386\n",
      "\n",
      "Ray Compute Time:\n",
      "    Mean = 0.5552471351623535\n",
      "    Median = 0.5382789373397827\n",
      "    Variance = 0.007188621607549612\n",
      "\n",
      "Ray Draw Time:\n",
      "    Mean = 0.021441650390625\n",
      "    Median = 0.02087223529815674\n",
      "    Variance = 3.855979837226187e-06\n"
     ]
    }
   ],
   "source": [
    "results = []\n",
    "results += [ray_performance_test(imgs=imgs, \n",
    "                                step_size=10, \n",
    "                                reflexion_order=3, \n",
    "                                ray_scaling=True, \n",
    "                                detail_draw=False, \n",
    "                                output_format=\"channels\")]"
   ]
  },
  {
   "cell_type": "code",
   "execution_count": 26,
   "id": "99577eb3",
   "metadata": {},
   "outputs": [
    {
     "name": "stdout",
     "output_type": "stream",
     "text": [
      "\n",
      "--\n",
      "Performance Result with 50 Tests\n",
      "Total Time:\n",
      "    Mean = 0.6796124744415283\n",
      "    Median = 0.6607975959777832\n",
      "    Variance = 0.015524363902080585\n",
      "\n",
      "Ray Compute Time:\n",
      "    Mean = 0.5591672611236572\n",
      "    Median = 0.5477724075317383\n",
      "    Variance = 0.007581451134702183\n",
      "\n",
      "Ray Draw Time:\n",
      "    Mean = 0.1204452133178711\n",
      "    Median = 0.1117478609085083\n",
      "    Variance = 0.0022347650876175973\n"
     ]
    }
   ],
   "source": [
    "results += [ray_performance_test(imgs=imgs, \n",
    "                                step_size=10, \n",
    "                                reflexion_order=3, \n",
    "                                ray_scaling=True, \n",
    "                                detail_draw=True, \n",
    "                                output_format=\"channels\")]"
   ]
  },
  {
   "cell_type": "code",
   "execution_count": 27,
   "id": "a680d7ab",
   "metadata": {},
   "outputs": [
    {
     "name": "stdout",
     "output_type": "stream",
     "text": [
      "\n",
      "Number of experiments: 2\n",
      "\n",
      "            avg_time            : mean=0.6282, std=0.0515, min=0.5767, max=0.6796, rel_change=16.39%\n",
      "            median_time         : mean=0.6101, std=0.0507, min=0.5593, max=0.6608, rel_change=16.63%\n",
      "            var_time            : mean=0.0115, std=0.0040, min=0.0074, max=0.0155, rel_change=70.54%\n",
      "            avg_compute_time    : mean=0.5572, std=0.0020, min=0.5552, max=0.5592, rel_change=0.70%\n",
      "            median_compute_time : mean=0.5430, std=0.0047, min=0.5383, max=0.5478, rel_change=1.75%\n",
      "            var_compute_time    : mean=0.0074, std=0.0002, min=0.0072, max=0.0076, rel_change=5.32%\n",
      "            avg_draw_time       : mean=0.0709, std=0.0495, min=0.0214, max=0.1204, rel_change=139.55%\n",
      "            median_draw_time    : mean=0.0663, std=0.0454, min=0.0209, max=0.1117, rel_change=137.05%\n",
      "            var_draw_time       : mean=0.0011, std=0.0011, min=0.0000, max=0.0022, rel_change=199.31%\n",
      "\n",
      "Overall trend in avg_time: increasing (1.0292e-01 change per experiment)\n",
      "Conclusion: Performance changes slightly across experiments.\n"
     ]
    }
   ],
   "source": [
    "compare_results(results);"
   ]
  },
  {
   "cell_type": "markdown",
   "id": "93b1f987",
   "metadata": {},
   "source": [
    "<br><br>\n",
    "\n",
    "**All Results**\n",
    "\n",
    "Executed with 50 random images.\n",
    "\n",
    "\n",
    "<br><br>\n",
    "\n",
    "Experiment 1: Ray Amount\n",
    "\n",
    "```text\n",
    "Number of experiments: 4\n",
    "\n",
    "            avg_time            : mean=16.0064, std=23.6257, min=0.5744, max=56.7918, rel_change=351.22%\n",
    "            median_time         : mean=15.4329, std=22.7908, min=0.5546, max=54.7799, rel_change=351.36%\n",
    "            var_time            : mean=17.1176, std=29.2774, min=0.0076, max=67.8259, rel_change=396.19%\n",
    "            avg_compute_time    : mean=15.1070, std=22.2322, min=0.5529, max=53.4815, rel_change=350.36%\n",
    "            median_compute_time : mean=14.5613, std=21.4404, min=0.5346, max=51.5723, rel_change=350.50%\n",
    "            var_compute_time    : mean=14.7739, std=25.2362, min=0.0074, max=58.4825, rel_change=395.80%\n",
    "            avg_draw_time       : mean=0.8994, std=1.3940, min=0.0215, max=3.3103, rel_change=365.67%\n",
    "            median_draw_time    : mean=0.8373, std=1.2914, min=0.0207, max=3.0705, rel_change=364.22%\n",
    "            var_draw_time       : mean=0.1525, std=0.2639, min=0.0000, max=0.6096, rel_change=399.67%\n",
    "\n",
    "Overall trend in avg_time: increasing (1.7306e+01 change per experiment)\n",
    "Conclusion: Performance changes significantly across experiments.\n",
    "```\n",
    "\n",
    "\n",
    "<br><br>\n",
    "\n",
    "Experiment 2: Ray Scaling\n",
    "\n",
    "```text\n",
    "Number of experiments: 2\n",
    "\n",
    "            avg_time            : mean=0.5744, std=0.0078, min=0.5666, max=0.5823, rel_change=2.73%\n",
    "            median_time         : mean=0.5558, std=0.0080, min=0.5478, max=0.5637, rel_change=2.86%\n",
    "            var_time            : mean=0.0078, std=0.0000, min=0.0078, max=0.0078, rel_change=0.16%\n",
    "            avg_compute_time    : mean=0.5581, std=0.0024, min=0.5557, max=0.5605, rel_change=0.86%\n",
    "            median_compute_time : mean=0.5398, std=0.0026, min=0.5372, max=0.5423, rel_change=0.95%\n",
    "            var_compute_time    : mean=0.0075, std=0.0000, min=0.0075, max=0.0075, rel_change=0.13%\n",
    "            avg_draw_time       : mean=0.0163, std=0.0055, min=0.0108, max=0.0218, rel_change=66.90%\n",
    "            median_draw_time    : mean=0.0160, std=0.0053, min=0.0106, max=0.0213, rel_change=66.86%\n",
    "            var_draw_time       : mean=0.0000, std=0.0000, min=0.0000, max=0.0000, rel_change=67.83%\n",
    "\n",
    "Overall trend in avg_time: decreasing (-1.5690e-02 change per experiment)\n",
    "Conclusion: Performance changes slightly across experiments.\n",
    "```\n",
    "\n",
    "<br><br>\n",
    "\n",
    "Experiment 3: Reflexion Order\n",
    "\n",
    "```text\n",
    "Number of experiments: 6\n",
    "\n",
    "            avg_time            : mean=0.9300, std=0.7354, min=0.3231, max=2.4409, rel_change=227.71%\n",
    "            median_time         : mean=0.8502, std=0.6128, min=0.3253, max=2.0917, rel_change=207.76%\n",
    "            var_time            : mean=0.4635, std=0.9329, min=0.0002, max=2.5421, rel_change=548.45%\n",
    "            avg_compute_time    : mean=0.9014, std=0.7194, min=0.3088, max=2.3798, rel_change=229.74%\n",
    "            median_compute_time : mean=0.8241, std=0.6002, min=0.3108, max=2.0401, rel_change=209.83%\n",
    "            var_compute_time    : mean=0.4449, std=0.8953, min=0.0002, max=2.4396, rel_change=548.32%\n",
    "            avg_draw_time       : mean=0.0286, std=0.0160, min=0.0143, max=0.0611, rel_change=163.74%\n",
    "            median_draw_time    : mean=0.0266, std=0.0129, min=0.0144, max=0.0521, rel_change=142.21%\n",
    "            var_draw_time       : mean=0.0002, std=0.0004, min=0.0000, max=0.0011, rel_change=550.06%\n",
    "\n",
    "Overall trend in avg_time: increasing (3.7365e-01 change per experiment)\n",
    "Conclusion: Performance changes significantly across experiments.\n",
    "```\n",
    "\n",
    "<br><br>\n",
    "\n",
    "Experiment 4: Detail Draw\n",
    "\n",
    "```text\n",
    "Number of experiments: 2\n",
    "\n",
    "            avg_time            : mean=0.6282, std=0.0515, min=0.5767, max=0.6796, rel_change=16.39%\n",
    "            median_time         : mean=0.6101, std=0.0507, min=0.5593, max=0.6608, rel_change=16.63%\n",
    "            var_time            : mean=0.0115, std=0.0040, min=0.0074, max=0.0155, rel_change=70.54%\n",
    "            avg_compute_time    : mean=0.5572, std=0.0020, min=0.5552, max=0.5592, rel_change=0.70%\n",
    "            median_compute_time : mean=0.5430, std=0.0047, min=0.5383, max=0.5478, rel_change=1.75%\n",
    "            var_compute_time    : mean=0.0074, std=0.0002, min=0.0072, max=0.0076, rel_change=5.32%\n",
    "            avg_draw_time       : mean=0.0709, std=0.0495, min=0.0214, max=0.1204, rel_change=139.55%\n",
    "            median_draw_time    : mean=0.0663, std=0.0454, min=0.0209, max=0.1117, rel_change=137.05%\n",
    "            var_draw_time       : mean=0.0011, std=0.0011, min=0.0000, max=0.0022, rel_change=199.31%\n",
    "\n",
    "Overall trend in avg_time: increasing (1.0292e-01 change per experiment)\n",
    "Conclusion: Performance changes slightly across experiments.\n",
    "```\n",
    "\n",
    "<br><br>\n",
    "\n",
    "Summary:\n",
    "\n",
    "The Stepsize/amount of rays have the biggest impact on the performance. The other parameters have rather a small impact."
   ]
  },
  {
   "cell_type": "code",
   "execution_count": 28,
   "id": "3b6aefb5",
   "metadata": {},
   "outputs": [],
   "source": [
    "# cleanup\n",
    "import os\n",
    "for img in imgs:\n",
    "    os.remove(img)"
   ]
  }
 ],
 "metadata": {
  "kernelspec": {
   "display_name": "img-phy-sim",
   "language": "python",
   "name": "python3"
  },
  "language_info": {
   "codemirror_mode": {
    "name": "ipython",
    "version": 3
   },
   "file_extension": ".py",
   "mimetype": "text/x-python",
   "name": "python",
   "nbconvert_exporter": "python",
   "pygments_lexer": "ipython3",
   "version": "3.13.7"
  }
 },
 "nbformat": 4,
 "nbformat_minor": 5
}
